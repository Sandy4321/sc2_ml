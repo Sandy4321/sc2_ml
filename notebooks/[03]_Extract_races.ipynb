{
 "cells": [
  {
   "cell_type": "code",
   "execution_count": 1,
   "metadata": {},
   "outputs": [],
   "source": [
    "%load_ext autoreload\n",
    "%autoreload 2"
   ]
  },
  {
   "cell_type": "code",
   "execution_count": 2,
   "metadata": {},
   "outputs": [],
   "source": [
    "from glob import glob\n",
    "import sys\n",
    "sys.path.append('../src/')\n",
    "from parsing import Parse\n",
    "datasetfolder = \"i:/StarCraft_BO/replayActionList/*\"\n",
    "datasetfiles = glob(datasetfolder)"
   ]
  },
  {
   "cell_type": "code",
   "execution_count": 3,
   "metadata": {},
   "outputs": [],
   "source": [
    "sc = Parse(datasetfiles[0])"
   ]
  },
  {
   "cell_type": "code",
   "execution_count": 6,
   "metadata": {},
   "outputs": [
    {
     "data": {
      "text/plain": [
       "[('7400', 'SpawningPool', 28.5, 58.5, None),\n",
       " ('9924', 'Hatchery', 24.5, 90.5, None),\n",
       " ('10508', 'Extractor', 25.5, 56.5, None)]"
      ]
     },
     "execution_count": 6,
     "metadata": {},
     "output_type": "execute_result"
    }
   ],
   "source": [
    "sc.extract_building(1)[:3]"
   ]
  },
  {
   "cell_type": "code",
   "execution_count": 7,
   "metadata": {},
   "outputs": [
    {
     "data": {
      "text/plain": [
       "[('6492', 'Extractor', 55.5, 24.5, None),\n",
       " ('7932', 'SpawningPool', 58.5, 26.5, None),\n",
       " ('15100', 'Hatchery', 93.5, 23.5, None)]"
      ]
     },
     "execution_count": 7,
     "metadata": {},
     "output_type": "execute_result"
    }
   ],
   "source": [
    "sc.extract_building(2)[:3]"
   ]
  },
  {
   "cell_type": "code",
   "execution_count": 10,
   "metadata": {},
   "outputs": [],
   "source": [
    "p1_train = sc.extract_training(1)"
   ]
  },
  {
   "cell_type": "code",
   "execution_count": 11,
   "metadata": {},
   "outputs": [
    {
     "data": {
      "text/plain": [
       "[('236', 'Drone'), ('1844', 'Drone'), ('1856', 'Drone')]"
      ]
     },
     "execution_count": 11,
     "metadata": {},
     "output_type": "execute_result"
    }
   ],
   "source": [
    "p1_train[:3]"
   ]
  },
  {
   "cell_type": "code",
   "execution_count": 12,
   "metadata": {},
   "outputs": [],
   "source": [
    "p2_train = sc.extract_training(2)"
   ]
  },
  {
   "cell_type": "code",
   "execution_count": 13,
   "metadata": {},
   "outputs": [
    {
     "data": {
      "text/plain": [
       "[('64', 'Drone'), ('1144', 'Drone'), ('1832', 'Drone')]"
      ]
     },
     "execution_count": 13,
     "metadata": {},
     "output_type": "execute_result"
    }
   ],
   "source": [
    "p2_train[:3]"
   ]
  },
  {
   "cell_type": "code",
   "execution_count": 14,
   "metadata": {},
   "outputs": [
    {
     "data": {
      "text/plain": [
       "'Drone'"
      ]
     },
     "execution_count": 14,
     "metadata": {},
     "output_type": "execute_result"
    }
   ],
   "source": [
    "p1_train[0][1]"
   ]
  },
  {
   "cell_type": "code",
   "execution_count": 17,
   "metadata": {},
   "outputs": [
    {
     "name": "stdout",
     "output_type": "stream",
     "text": [
      "Zerg Zerg\n",
      "Terran Zerg\n",
      "Zerg Protos\n",
      "Zerg Protos\n",
      "Protos Terran\n",
      "Protos Protos\n",
      "Protos Zerg\n",
      "Terran Zerg\n",
      "Protos Zerg\n",
      "Terran Zerg\n",
      "Protos Protos\n",
      "Terran Terran\n",
      "Protos Zerg\n",
      "Protos Terran\n",
      "Zerg Terran\n",
      "Terran Terran\n",
      "Terran Protos\n",
      "Protos Zerg\n",
      "Terran Protos\n",
      "Terran Protos\n",
      "Protos Zerg\n",
      "Protos Protos\n",
      "Protos Zerg\n",
      "Zerg Terran\n",
      "Zerg Terran\n",
      "Terran Terran\n",
      "Protos Terran\n",
      "Protos Zerg\n",
      "Protos Zerg\n",
      "Zerg Protos\n",
      "Protos Protos\n",
      "Protos Protos\n",
      "Protos Terran\n",
      "Zerg Zerg\n",
      "Zerg Terran\n",
      "Protos Protos\n",
      "Protos Zerg\n",
      "Zerg Terran\n",
      "Terran Protos\n",
      "Terran Zerg\n",
      "Terran Zerg\n",
      "Protos Protos\n",
      "Zerg Protos\n",
      "Zerg Protos\n",
      "Terran Protos\n",
      "Zerg Terran\n",
      "Zerg Zerg\n",
      "Zerg Zerg\n",
      "Zerg Protos\n",
      "Zerg Zerg\n",
      "Terran Protos\n",
      "Protos Protos\n",
      "Protos Protos\n",
      "Zerg Protos\n",
      "Protos Protos\n",
      "Zerg Protos\n",
      "Terran Zerg\n",
      "Zerg Zerg\n",
      "Protos Terran\n",
      "Zerg Zerg\n",
      "Protos Terran\n",
      "None None\n",
      "Terran Zerg\n",
      "Protos Terran\n",
      "Terran Terran\n",
      "Zerg Protos\n",
      "Terran Zerg\n",
      "Terran Protos\n",
      "Zerg Protos\n",
      "Terran Protos\n",
      "Zerg Terran\n",
      "None None\n",
      "Terran Terran\n",
      "Zerg Terran\n",
      "Zerg Protos\n",
      "Zerg Zerg\n",
      "Terran Protos\n",
      "Protos Zerg\n",
      "Terran Protos\n",
      "Protos Zerg\n",
      "Protos Terran\n",
      "Protos Protos\n",
      "Zerg Terran\n",
      "Protos Zerg\n",
      "Protos Protos\n",
      "Protos Zerg\n",
      "Terran Terran\n",
      "Protos Zerg\n",
      "Protos Terran\n",
      "Terran Terran\n",
      "Terran Zerg\n",
      "Protos Zerg\n",
      "Terran Terran\n",
      "Protos Zerg\n",
      "Zerg Terran\n",
      "Terran Zerg\n",
      "Zerg Protos\n",
      "Zerg Zerg\n",
      "Protos Protos\n",
      "Protos Terran\n"
     ]
    }
   ],
   "source": [
    "\n",
    "for datasetfile in datasetfiles[:100]:\n",
    "    sc = Parse(datasetfile)\n",
    "    print(sc.p1_race, sc.p2_race)"
   ]
  },
  {
   "cell_type": "code",
   "execution_count": null,
   "metadata": {},
   "outputs": [],
   "source": []
  }
 ],
 "metadata": {
  "kernelspec": {
   "display_name": "SC2 (Py36)",
   "language": "python",
   "name": "venv"
  },
  "language_info": {
   "codemirror_mode": {
    "name": "ipython",
    "version": 3
   },
   "file_extension": ".py",
   "mimetype": "text/x-python",
   "name": "python",
   "nbconvert_exporter": "python",
   "pygments_lexer": "ipython3",
   "version": "3.6.3"
  }
 },
 "nbformat": 4,
 "nbformat_minor": 2
}
