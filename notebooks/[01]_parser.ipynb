{
 "cells": [
  {
   "cell_type": "code",
   "execution_count": 1,
   "metadata": {},
   "outputs": [],
   "source": [
    "%load_ext autoreload\n",
    "%autoreload 2"
   ]
  },
  {
   "cell_type": "code",
   "execution_count": 2,
   "metadata": {},
   "outputs": [],
   "source": [
    "import sys\n",
    "sys.path.append('../src/')"
   ]
  },
  {
   "cell_type": "code",
   "execution_count": 33,
   "metadata": {},
   "outputs": [],
   "source": [
    "from parsing import Parse\n",
    "from glob import glob\n",
    "import matplotlib.pyplot as plt\n",
    "import seaborn as sns\n",
    "import re"
   ]
  },
  {
   "cell_type": "code",
   "execution_count": 7,
   "metadata": {},
   "outputs": [],
   "source": [
    "datasetfolder = \"i:/StarCraft_BO/replayActionList/*\"\n",
    "datasetfiles = glob(datasetfolder)"
   ]
  },
  {
   "cell_type": "code",
   "execution_count": 111,
   "metadata": {},
   "outputs": [],
   "source": [
    "sc = Parse(datasetfiles[7])"
   ]
  },
  {
   "cell_type": "code",
   "execution_count": 112,
   "metadata": {},
   "outputs": [],
   "source": [
    "df1, df2 = sc.extract_move_screen()"
   ]
  },
  {
   "cell_type": "code",
   "execution_count": 113,
   "metadata": {},
   "outputs": [],
   "source": [
    "p1_build = sc.extract_building(1)\n",
    "p2_build = sc.extract_building(2)"
   ]
  },
  {
   "cell_type": "code",
   "execution_count": 114,
   "metadata": {},
   "outputs": [
    {
     "data": {
      "text/plain": [
       "[('8932', 'Hatchery', 135.5, 67.5, None),\n",
       " ('9416', 'Hatchery', 135.5, 67.5, None),\n",
       " ('9676', 'Extractor', 134.5, 109.5, None),\n",
       " ('11552', 'SpawningPool', 137.5, 109.5, None),\n",
       " ('18528', 'SpineCrawler', 129.0, 69.0, None),\n",
       " ('23660', 'BanelingNest', 142.5, 103.5, None),\n",
       " ('24112', 'CreepTumor', 126.5, 58.5, 'CreepTumor'),\n",
       " ('24436', 'CreepTumor', 121.5, 86.5, 'CreepTumor'),\n",
       " ('26204', 'CreepTumor', 118.5, 61.5, 'CreepTumor'),\n",
       " ('27612', 'CreepTumor', 116.5, 80.5, 'CreepTumor'),\n",
       " ('28636', 'Extractor', 134.5, 95.5, None),\n",
       " ('30120', 'Lair', None, None, None),\n",
       " ('31108', 'Extractor', 137.5, 74.5, None),\n",
       " ('31132', 'Extractor', 132.5, 74.5, None),\n",
       " ('32156', 'CreepTumor', 110.5, 61.5, 'CreepTumor'),\n",
       " ('32268', 'CreepTumor', 107.5, 82.5, 'CreepTumor'),\n",
       " ('35836', 'Spire', 141.0, 100.0, None),\n",
       " ('37648', 'CreepTumor', 102.5, 74.5, 'CreepTumor'),\n",
       " ('38468', 'RoachWarren', 126.5, 70.5, None),\n",
       " ('40068', 'CreepTumor', 98.5, 83.5, 'CreepTumor'),\n",
       " ('40628', 'CreepTumor', 109.5, 68.5, 'CreepTumor'),\n",
       " ('50260', 'EvolutionChamber', 125.5, 70.5, None),\n",
       " ('50316', 'EvolutionChamber', 125.5, 67.5, None),\n",
       " ('50532', 'SpineCrawler', 128.0, 69.0, None),\n",
       " ('54684', 'Hatchery', 133.5, 28.5, None),\n",
       " ('62628', 'Extractor', 140.5, 31.5, None),\n",
       " ('62672', 'Extractor', 129.5, 21.5, None),\n",
       " ('66124', 'Hatchery', 109.5, 49.5, None),\n",
       " ('72360', 'Hatchery', 131.5, 61.5, None),\n",
       " ('72504', 'Hatchery', 127.5, 53.5, None),\n",
       " ('85860', 'Extractor', 116.5, 45.5, None),\n",
       " ('85884', 'Extractor', 113.5, 42.5, None),\n",
       " ('88552', 'Hatchery', 93.5, 23.5, None),\n",
       " ('89316', 'InfestationPit', 137.5, 103.5, None),\n",
       " ('96676', 'Hive', None, None, None),\n",
       " ('96696', 'Hive', None, None, None),\n",
       " ('100904', 'Extractor', 86.5, 21.5, None),\n",
       " ('100928', 'Extractor', 86.5, 25.5, None),\n",
       " ('114904', 'Hatchery', 62.5, 26.5, None)]"
      ]
     },
     "execution_count": 114,
     "metadata": {},
     "output_type": "execute_result"
    }
   ],
   "source": [
    "p1_build"
   ]
  },
  {
   "cell_type": "code",
   "execution_count": 115,
   "metadata": {},
   "outputs": [
    {
     "data": {
      "text/plain": [
       "[('3856', 'SupplyDepot', 38.0, 81.0, None),\n",
       " ('6436', 'Barracks', 40.5, 81.5, None),\n",
       " ('9652', 'Refinery', 25.5, 56.5, None),\n",
       " ('10732', 'SupplyDepot', 41.0, 84.0, None),\n",
       " ('15232', 'Factory', 33.5, 71.5, None),\n",
       " ('16908', 'Reactor', None, None, 'Barracks'),\n",
       " ('17764', 'CommandCenter', 32.5, 63.5, None),\n",
       " ('18620', 'SupplyDepot', 23.0, 70.0, None),\n",
       " ('19520', 'EngineeringBay', 30.5, 69.5, None),\n",
       " ('20456', 'TechLab', 37.5, 72.5, 'Barracks'),\n",
       " ('24528', 'SupplyDepot', 26.0, 73.0, None),\n",
       " ('26216', 'SupplyDepot', 32.0, 60.0, None),\n",
       " ('26956', 'Factory', 31.5, 74.5, None),\n",
       " ('27916', 'Refinery', 25.5, 70.5, None),\n",
       " ('31008', 'TechLab', None, None, 'Factory'),\n",
       " ('31076', 'Barracks', 38.5, 67.5, None),\n",
       " ('31460', 'MissileTurret', 19.0, 68.0, None),\n",
       " ('31492', 'MissileTurret', 18.0, 62.0, None),\n",
       " ('31584', 'MissileTurret', 20.0, 56.0, None),\n",
       " ('35792', 'SupplyDepot', 31.0, 66.0, None),\n",
       " ('35824', 'SupplyDepot', 31.0, 64.0, None),\n",
       " ('35856', 'SupplyDepot', 31.0, 62.0, None),\n",
       " ('36072', 'MissileTurret', 16.0, 94.0, None),\n",
       " ('36116', 'MissileTurret', 15.0, 90.0, None),\n",
       " ('36252', 'MissileTurret', 17.0, 85.0, None),\n",
       " ('37724', 'Reactor', None, None, 'Barracks'),\n",
       " ('47708', 'Barracks', 38.5, 64.5, None),\n",
       " ('48000', 'MissileTurret', 43.0, 67.0, None),\n",
       " ('48044', 'MissileTurret', 41.0, 59.0, None),\n",
       " ('48192', 'MissileTurret', 35.0, 57.0, None),\n",
       " ('50608', 'Refinery', 22.5, 83.5, None),\n",
       " ('50844', 'Refinery', 27.5, 83.5, None),\n",
       " ('51072', 'SupplyDepot', 24.0, 96.0, None),\n",
       " ('51160', 'SupplyDepot', 24.0, 94.0, None),\n",
       " ('53580', 'Reactor', None, None, 'Barracks'),\n",
       " ('53884', 'Barracks', 28.5, 88.5, None),\n",
       " ('56056', 'CommandCenter', 29.5, 101.5, None),\n",
       " ('62504', 'SupplyDepot', 31.0, 62.0, None),\n",
       " ('62536', 'SupplyDepot', 31.0, 59.0, None),\n",
       " ('62580', 'SupplyDepot', 30.0, 56.0, None),\n",
       " ('62628', 'SupplyDepot', 28.0, 55.0, None),\n",
       " ('62660', 'SupplyDepot', 33.0, 57.0, None),\n",
       " ('63200', 'MissileTurret', 41.0, 61.0, None),\n",
       " ('63244', 'MissileTurret', 38.0, 59.0, None),\n",
       " ('63436', 'MissileTurret', 39.0, 56.0, None),\n",
       " ('63888', 'Reactor', 26.5, 94.5, 'Barracks'),\n",
       " ('64732', 'MissileTurret', 48.0, 114.0, None),\n",
       " ('65100', 'MissileTurret', 56.0, 116.0, None),\n",
       " ('65260', 'MissileTurret', 54.0, 118.0, None),\n",
       " ('65316', 'MissileTurret', 49.0, 119.0, None),\n",
       " ('70232', 'MissileTurret', 55.0, 112.0, None),\n",
       " ('72640', 'Factory', 41.5, 75.5, None),\n",
       " ('72876', 'Armory', 17.5, 64.5, None),\n",
       " ('74856', 'MissileTurret', 55.0, 110.0, None),\n",
       " ('79920', 'CommandCenter', 29.5, 98.5, None),\n",
       " ('84400', 'TechLab', None, None, 'Factory'),\n",
       " ('84636', 'SupplyDepot', 43.0, 65.0, None),\n",
       " ('87256', 'MissileTurret', 53.0, 114.0, None),\n",
       " ('87292', 'MissileTurret', 56.0, 113.0, None),\n",
       " ('87324', 'MissileTurret', 55.0, 109.0, None),\n",
       " ('87404', 'MissileTurret', 49.0, 119.0, None),\n",
       " ('88564', 'MissileTurret', 56.0, 107.0, None),\n",
       " ('89012', 'MissileTurret', 42.0, 117.0, None),\n",
       " ('93996', 'MissileTurret', 55.0, 113.0, None),\n",
       " ('94032', 'MissileTurret', 55.0, 110.0, None),\n",
       " ('94164', 'MissileTurret', 55.0, 116.0, None),\n",
       " ('96280', 'MissileTurret', 48.0, 120.0, None),\n",
       " ('96316', 'MissileTurret', 51.0, 120.0, None),\n",
       " ('108276', 'MissileTurret', 49.0, 120.0, None),\n",
       " ('108332', 'MissileTurret', 52.0, 119.0, None),\n",
       " ('108928', 'CommandCenter', 29.5, 102.5, None),\n",
       " ('114588', 'MissileTurret', 29.0, 138.0, None),\n",
       " ('114632', 'MissileTurret', 32.0, 136.0, None),\n",
       " ('114756', 'MissileTurret', 27.0, 142.0, None)]"
      ]
     },
     "execution_count": 115,
     "metadata": {},
     "output_type": "execute_result"
    }
   ],
   "source": [
    "p2_build"
   ]
  },
  {
   "cell_type": "code",
   "execution_count": null,
   "metadata": {},
   "outputs": [],
   "source": []
  }
 ],
 "metadata": {
  "kernelspec": {
   "display_name": "SC2 (Py36)",
   "language": "python",
   "name": "venv"
  },
  "language_info": {
   "codemirror_mode": {
    "name": "ipython",
    "version": 3
   },
   "file_extension": ".py",
   "mimetype": "text/x-python",
   "name": "python",
   "nbconvert_exporter": "python",
   "pygments_lexer": "ipython3",
   "version": "3.6.3"
  }
 },
 "nbformat": 4,
 "nbformat_minor": 2
}
