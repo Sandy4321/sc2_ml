{
 "cells": [
  {
   "cell_type": "code",
   "execution_count": 20,
   "metadata": {},
   "outputs": [],
   "source": [
    "from neo4j import GraphDatabase\n",
    "from glob import glob"
   ]
  },
  {
   "cell_type": "code",
   "execution_count": 6,
   "metadata": {},
   "outputs": [],
   "source": [
    "import csv"
   ]
  },
  {
   "cell_type": "code",
   "execution_count": 5,
   "metadata": {},
   "outputs": [],
   "source": [
    "driver = GraphDatabase.driver(uri=\"bolt://localhost:7687\",auth=(\"neo4j\",\"admin\"))"
   ]
  },
  {
   "cell_type": "markdown",
   "metadata": {},
   "source": [
    "### Load buildings"
   ]
  },
  {
   "cell_type": "code",
   "execution_count": 28,
   "metadata": {},
   "outputs": [],
   "source": [
    "races = ['zerg','terran','protoss']"
   ]
  },
  {
   "cell_type": "code",
   "execution_count": 306,
   "metadata": {},
   "outputs": [],
   "source": [
    "def get_building_path(race):\n",
    "    return '../data/'+race+'_buildings.csv'"
   ]
  },
  {
   "cell_type": "code",
   "execution_count": 307,
   "metadata": {},
   "outputs": [],
   "source": [
    "def create_building(tx,name,race):\n",
    "    return tx.run(\"\"\"\n",
    "    CREATE (a:Building {name:$name, race:$race})\n",
    "    \"\"\", name=name,race=race)"
   ]
  },
  {
   "cell_type": "code",
   "execution_count": 308,
   "metadata": {},
   "outputs": [],
   "source": [
    "for race in races:\n",
    "    filepath = get_building_path(race)\n",
    "    with open(filepath, 'r', encoding='utf-8') as f:\n",
    "        buildings = f.readlines()[0]\n",
    "        buildings = buildings.split(',')\n",
    "    with driver.session() as session:\n",
    "        for name in buildings:\n",
    "            session.write_transaction(create_building, name, race)"
   ]
  },
  {
   "cell_type": "markdown",
   "metadata": {},
   "source": [
    "### Load units"
   ]
  },
  {
   "cell_type": "code",
   "execution_count": 309,
   "metadata": {},
   "outputs": [],
   "source": [
    "def get_units_path(race):\n",
    "    return '../data/'+race+'_units.csv'"
   ]
  },
  {
   "cell_type": "code",
   "execution_count": 310,
   "metadata": {},
   "outputs": [],
   "source": [
    "def create_units(tx, name, race):\n",
    "    return tx.run(\"\"\"\n",
    "    CREATE (a:Unit {name:$name, race:$race})\n",
    "    \"\"\", name=name, race=race)"
   ]
  },
  {
   "cell_type": "code",
   "execution_count": 311,
   "metadata": {},
   "outputs": [],
   "source": [
    "for race in races:\n",
    "    filepath = get_units_path(race)\n",
    "    with open(filepath, 'r', encoding='utf-8') as f:\n",
    "        units = f.readlines()[0]\n",
    "        units = units.split(',')\n",
    "    with driver.session() as session:\n",
    "        for name in units:\n",
    "            session.write_transaction(create_units, name, race)"
   ]
  },
  {
   "cell_type": "markdown",
   "metadata": {},
   "source": [
    "### Load relations"
   ]
  },
  {
   "cell_type": "code",
   "execution_count": 312,
   "metadata": {},
   "outputs": [],
   "source": [
    "with open('../data/units.csv', 'r', encoding='utf-8') as f:\n",
    "    data = f.readlines()"
   ]
  },
  {
   "cell_type": "code",
   "execution_count": 313,
   "metadata": {},
   "outputs": [],
   "source": [
    "def produce(tx, building, unit):\n",
    "    return tx.run(\"\"\"\n",
    "    MATCH (n:Building), (u:Unit)\n",
    "    WHERE toLower(n.name) = toLower($building) and\n",
    "    toLower(u.name) = toLower($unit)\n",
    "    MERGE (n)-[:Produce]->(u)\n",
    "    \"\"\", building=building, unit=unit)"
   ]
  },
  {
   "cell_type": "code",
   "execution_count": 314,
   "metadata": {},
   "outputs": [],
   "source": [
    "def allow(tx, building1, building2):\n",
    "    return tx.run(\"\"\"\n",
    "    MATCH (n:Building), (m:Building)\n",
    "    WHERE toLower(n.name) = toLower($building1) and\n",
    "    toLower(m.name) = toLower($building2)\n",
    "    MERGE (n)-[:Allow]->(m)\n",
    "    \"\"\", building1=building1, building2=building2)"
   ]
  },
  {
   "cell_type": "code",
   "execution_count": 315,
   "metadata": {},
   "outputs": [],
   "source": [
    "def isStrongAgainst(tx, unit1, unit2):\n",
    "    return tx.run(\"\"\"\n",
    "    MATCH (n:Unit), (m:Unit)\n",
    "    WHERE toLower(n.name) = toLower($unit1) and\n",
    "    toLower(m.name) = toLower($unit2)\n",
    "    MERGE (n)-[:StrongerThan]->(m)\n",
    "    \"\"\",unit1=unit1,unit2=unit2)"
   ]
  },
  {
   "cell_type": "code",
   "execution_count": 316,
   "metadata": {},
   "outputs": [],
   "source": [
    "def isWeakAgainst(tx, unit1, unit2):\n",
    "    return tx.run(\"\"\"\n",
    "    MATCH (n:Unit), (m:Unit)\n",
    "    WHERE toLower(n.name) = toLower($unit1) and\n",
    "    toLower(m.name) = toLower($unit2)\n",
    "    MERGE (n)<-[:StrongerThan]-(m)\n",
    "    \"\"\",unit1=unit1,unit2=unit2)"
   ]
  },
  {
   "cell_type": "code",
   "execution_count": 317,
   "metadata": {},
   "outputs": [],
   "source": [
    "def get_fn(name):\n",
    "    return {\n",
    "        'produce': produce,\n",
    "        'allow': allow,\n",
    "        'isStrongAgainst': isStrongAgainst,\n",
    "        'isWeakAgainst': isWeakAgainst\n",
    "    }.get(name)"
   ]
  },
  {
   "cell_type": "code",
   "execution_count": 318,
   "metadata": {},
   "outputs": [],
   "source": [
    "for line in data:\n",
    "    elements = line.strip().split(',')\n",
    "    f = get_fn(elements[1])\n",
    "    for i in elements[2:]:\n",
    "        with driver.session() as session:\n",
    "            session.write_transaction(f, elements[0], i)"
   ]
  },
  {
   "cell_type": "markdown",
   "metadata": {},
   "source": [
    "### Find counters\n",
    "\n",
    "pool first:"
   ]
  },
  {
   "cell_type": "code",
   "execution_count": 322,
   "metadata": {},
   "outputs": [],
   "source": [
    "def get_unit_counter(tx, unit,race):\n",
    "    return tx.run(\"\"\"\n",
    "    MATCH (u:Unit)<-[:StrongerThan]-(u2:Unit)<-[:Produce]-(m:Building )\n",
    "    WHERE u.name = $unit and m.race = $race\n",
    "    RETURN m.name as build, u2.name as unit\n",
    "    \"\"\", unit=unit, race=race)"
   ]
  },
  {
   "cell_type": "code",
   "execution_count": 323,
   "metadata": {},
   "outputs": [],
   "source": [
    "with driver.session() as session:\n",
    "    val = session.read_transaction(get_unit_counter, 'SiegeTank','terran').data()"
   ]
  },
  {
   "cell_type": "code",
   "execution_count": 324,
   "metadata": {},
   "outputs": [
    {
     "data": {
      "text/plain": [
       "[{'build': 'Starport', 'unit': 'Banshee'}]"
      ]
     },
     "execution_count": 324,
     "metadata": {},
     "output_type": "execute_result"
    }
   ],
   "source": [
    "val"
   ]
  },
  {
   "cell_type": "code",
   "execution_count": 325,
   "metadata": {},
   "outputs": [],
   "source": [
    "def get_build_counter(tx, building, race):\n",
    "    return tx.run(\"\"\"\n",
    "    MATCH (u:Building)-[:Produce]->(:Unit)<-[:StrongerThan]-(u2:Unit)<-[:Produce]-(m:Building )\n",
    "    WHERE u.name = $building and m.race = $race\n",
    "    RETURN m.name as build, u2.name as unit\n",
    "    \"\"\",building=building,race=race)"
   ]
  },
  {
   "cell_type": "code",
   "execution_count": 332,
   "metadata": {},
   "outputs": [],
   "source": [
    "with driver.session() as session:\n",
    "    val = session.read_transaction(get_build_counter, 'SpawningPool','terran').data()"
   ]
  },
  {
   "cell_type": "code",
   "execution_count": 333,
   "metadata": {},
   "outputs": [
    {
     "data": {
      "text/plain": [
       "[{'build': 'Barracks', 'unit': 'Marine'},\n",
       " {'build': 'Factory', 'unit': 'Hellion'},\n",
       " {'build': 'Factory', 'unit': 'WidowMine'},\n",
       " {'build': 'Armory', 'unit': 'Hellbat'}]"
      ]
     },
     "execution_count": 333,
     "metadata": {},
     "output_type": "execute_result"
    }
   ],
   "source": [
    "val"
   ]
  },
  {
   "cell_type": "code",
   "execution_count": null,
   "metadata": {},
   "outputs": [],
   "source": []
  }
 ],
 "metadata": {
  "kernelspec": {
   "display_name": "SC2 (Py36)",
   "language": "python",
   "name": "venv"
  },
  "language_info": {
   "codemirror_mode": {
    "name": "ipython",
    "version": 3
   },
   "file_extension": ".py",
   "mimetype": "text/x-python",
   "name": "python",
   "nbconvert_exporter": "python",
   "pygments_lexer": "ipython3",
   "version": "3.6.7"
  }
 },
 "nbformat": 4,
 "nbformat_minor": 2
}
