{
 "cells": [
  {
   "cell_type": "code",
   "execution_count": 12,
   "metadata": {},
   "outputs": [],
   "source": [
    "import sys\n",
    "sys.path.append('../src/')\n",
    "from glob import glob\n",
    "replays = glob('/home/michael/StarCraftII/Replays/local/*')"
   ]
  },
  {
   "cell_type": "code",
   "execution_count": 37,
   "metadata": {},
   "outputs": [],
   "source": [
    "from building import zerg_buildings, protoss_buildings, terran_buildings"
   ]
  },
  {
   "cell_type": "code",
   "execution_count": 2,
   "metadata": {},
   "outputs": [],
   "source": [
    "from spawningtool import parser"
   ]
  },
  {
   "cell_type": "code",
   "execution_count": 17,
   "metadata": {},
   "outputs": [],
   "source": [
    "replay = parser.parse_replay(replays[-1])"
   ]
  },
  {
   "cell_type": "code",
   "execution_count": 18,
   "metadata": {},
   "outputs": [],
   "source": [
    "p1 = [(b['frame'],b['name']) for b in replay['players'][1]['buildOrder'] if b['name'] in zerg_buildings]"
   ]
  },
  {
   "cell_type": "code",
   "execution_count": 19,
   "metadata": {},
   "outputs": [
    {
     "data": {
      "text/plain": [
       "[(1109, 'Hatchery'),\n",
       " (1581, 'Extractor'),\n",
       " (1694, 'SpawningPool'),\n",
       " (2481, 'Hatchery'),\n",
       " (4379, 'SporeCrawler'),\n",
       " (5115, 'SporeCrawler'),\n",
       " (5142, 'SporeCrawler'),\n",
       " (6018.2, 'Lair'),\n",
       " (6220, 'RoachWarren'),\n",
       " (6247, 'Extractor'),\n",
       " (6277, 'Extractor'),\n",
       " (6955, 'Extractor'),\n",
       " (7055, 'Extractor'),\n",
       " (7642, 'EvolutionChamber'),\n",
       " (8023, 'InfestationPit'),\n",
       " (8165, 'Extractor'),\n",
       " (8614, 'Hatchery'),\n",
       " (11075, 'SpineCrawler'),\n",
       " (11088, 'SpineCrawler'),\n",
       " (13727, 'Extractor'),\n",
       " (13752, 'Extractor'),\n",
       " (13769, 'BanelingNest'),\n",
       " (15951, 'Hatchery'),\n",
       " (16002, 'Hatchery')]"
      ]
     },
     "execution_count": 19,
     "metadata": {},
     "output_type": "execute_result"
    }
   ],
   "source": [
    "p1"
   ]
  },
  {
   "cell_type": "code",
   "execution_count": 21,
   "metadata": {},
   "outputs": [],
   "source": [
    "p2 = [(b['frame'],b['name']) for b in replay['players'][2]['buildOrder'] if b['name'] in protoss_buildings]"
   ]
  },
  {
   "cell_type": "code",
   "execution_count": 22,
   "metadata": {},
   "outputs": [
    {
     "data": {
      "text/plain": [
       "[(447, 'Pylon'),\n",
       " (996, 'Gateway'),\n",
       " (1068, 'Assimilator'),\n",
       " (1924, 'Nexus'),\n",
       " (2150, 'CyberneticsCore'),\n",
       " (2372, 'Assimilator'),\n",
       " (2627, 'Pylon'),\n",
       " (3146, 'Stargate'),\n",
       " (4509, 'Pylon'),\n",
       " (4662, 'Assimilator'),\n",
       " (4709, 'Assimilator'),\n",
       " (4855, 'Gateway'),\n",
       " (5123, 'RoboticsFacility'),\n",
       " (5251, 'Pylon'),\n",
       " (5784, 'TwilightCouncil'),\n",
       " (5826, 'Gateway'),\n",
       " (5832, 'Gateway'),\n",
       " (6535, 'Nexus'),\n",
       " (6561, 'Pylon'),\n",
       " (6632, 'Pylon'),\n",
       " (6781, 'Pylon'),\n",
       " (6888, 'Forge'),\n",
       " (7036, 'Forge'),\n",
       " (8352, 'Pylon'),\n",
       " (8606, 'Pylon'),\n",
       " (8848, 'Assimilator'),\n",
       " (8890, 'Assimilator'),\n",
       " (9016, 'Gateway'),\n",
       " (9048, 'Gateway'),\n",
       " (9070, 'Gateway'),\n",
       " (9082, 'Gateway'),\n",
       " (9235, 'Pylon'),\n",
       " (9454, 'PhotonCannon'),\n",
       " (9574, 'Pylon'),\n",
       " (9608, 'Gateway'),\n",
       " (9624, 'Gateway'),\n",
       " (9774, 'PhotonCannon'),\n",
       " (10100, 'PhotonCannon'),\n",
       " (10220, 'Pylon'),\n",
       " (10252, 'Pylon'),\n",
       " (10633, 'Pylon'),\n",
       " (10685, 'Pylon'),\n",
       " (10729, 'Nexus'),\n",
       " (10814, 'Pylon'),\n",
       " (11143, 'Pylon'),\n",
       " (13310, 'Assimilator'),\n",
       " (13345, 'DarkShrine'),\n",
       " (13349, 'Assimilator'),\n",
       " (14620, 'Pylon'),\n",
       " (14668, 'Pylon'),\n",
       " (15909, 'Pylon')]"
      ]
     },
     "execution_count": 22,
     "metadata": {},
     "output_type": "execute_result"
    }
   ],
   "source": [
    "p2"
   ]
  },
  {
   "cell_type": "code",
   "execution_count": 54,
   "metadata": {},
   "outputs": [],
   "source": [
    "batch = glob('/home/michael/Téléchargements/*.SC2Replay')"
   ]
  },
  {
   "cell_type": "code",
   "execution_count": 55,
   "metadata": {},
   "outputs": [
    {
     "data": {
      "text/plain": [
       "258"
      ]
     },
     "execution_count": 55,
     "metadata": {},
     "output_type": "execute_result"
    }
   ],
   "source": [
    "len(batch)"
   ]
  },
  {
   "cell_type": "code",
   "execution_count": 83,
   "metadata": {},
   "outputs": [
    {
     "name": "stdout",
     "output_type": "stream",
     "text": [
      "/home/michael/Téléchargements/eff40b4b0629d4937aafcef13205d27d.SC2Replay\n"
     ]
    }
   ],
   "source": [
    "bo = []\n",
    "for filepath in batch:\n",
    "    try:\n",
    "        replay = parser.parse_replay(filepath)\n",
    "        if len(replay['players']) == 2:\n",
    "            if replay['players'][1]['race'] == 'Terran':\n",
    "                bo.append([b['name'] for b in replay['players'][1]['buildOrder'] if b['name'] in terran_buildings])\n",
    "            elif replay['players'][2]['race'] == 'Terran':\n",
    "                bo.append([b['name'] for b in replay['players'][2]['buildOrder'] if b['name'] in terran_buildings])\n",
    "    except AttributeError as e:\n",
    "        print(filepath)\n",
    "        pass"
   ]
  },
  {
   "cell_type": "code",
   "execution_count": 84,
   "metadata": {},
   "outputs": [
    {
     "data": {
      "text/plain": [
       "107"
      ]
     },
     "execution_count": 84,
     "metadata": {},
     "output_type": "execute_result"
    }
   ],
   "source": [
    "len(bo)"
   ]
  },
  {
   "cell_type": "code",
   "execution_count": 85,
   "metadata": {},
   "outputs": [],
   "source": [
    "build_dict = {b: chr(i+97) for i,b in enumerate(sorted(terran_buildings))}"
   ]
  },
  {
   "cell_type": "code",
   "execution_count": 86,
   "metadata": {},
   "outputs": [],
   "source": [
    "bo_str = []\n",
    "for b in bo:\n",
    "    bo_str.append(''.join([build_dict[row[1]] for row in b if row[1] in terran_buildings]))"
   ]
  },
  {
   "cell_type": "code",
   "execution_count": 87,
   "metadata": {},
   "outputs": [
    {
     "data": {
      "text/plain": [
       "['', '', '']"
      ]
     },
     "execution_count": 87,
     "metadata": {},
     "output_type": "execute_result"
    }
   ],
   "source": [
    "bo_str[:3]"
   ]
  },
  {
   "cell_type": "code",
   "execution_count": 88,
   "metadata": {},
   "outputs": [
    {
     "data": {
      "text/plain": [
       "[['SupplyDepot',\n",
       "  'Refinery',\n",
       "  'Barracks',\n",
       "  'OrbitalCommand',\n",
       "  'CommandCenter',\n",
       "  'Factory',\n",
       "  'Refinery',\n",
       "  'SupplyDepot',\n",
       "  'Starport',\n",
       "  'OrbitalCommand',\n",
       "  'Bunker',\n",
       "  'Bunker',\n",
       "  'SupplyDepot'],\n",
       " ['SupplyDepot',\n",
       "  'Barracks',\n",
       "  'Refinery',\n",
       "  'OrbitalCommand',\n",
       "  'Factory',\n",
       "  'Bunker',\n",
       "  'SupplyDepot',\n",
       "  'CommandCenter',\n",
       "  'SupplyDepot',\n",
       "  'Refinery',\n",
       "  'SupplyDepot',\n",
       "  'CommandCenter'],\n",
       " ['SupplyDepot',\n",
       "  'Refinery',\n",
       "  'Barracks',\n",
       "  'OrbitalCommand',\n",
       "  'CommandCenter',\n",
       "  'Factory',\n",
       "  'SupplyDepot',\n",
       "  'Refinery',\n",
       "  'Starport',\n",
       "  'OrbitalCommand',\n",
       "  'Armory',\n",
       "  'SupplyDepot',\n",
       "  'FusionCore',\n",
       "  'SupplyDepot',\n",
       "  'Refinery',\n",
       "  'CommandCenter',\n",
       "  'Refinery',\n",
       "  'SupplyDepot',\n",
       "  'EngineeringBay',\n",
       "  'Barracks',\n",
       "  'Barracks',\n",
       "  'OrbitalCommand',\n",
       "  'EngineeringBay',\n",
       "  'Barracks',\n",
       "  'Barracks',\n",
       "  'OrbitalCommand',\n",
       "  'SupplyDepot',\n",
       "  'SupplyDepot',\n",
       "  'SupplyDepot',\n",
       "  'SupplyDepot',\n",
       "  'Refinery',\n",
       "  'Refinery',\n",
       "  'Factory',\n",
       "  'SupplyDepot',\n",
       "  'SupplyDepot',\n",
       "  'SupplyDepot',\n",
       "  'SupplyDepot',\n",
       "  'Barracks',\n",
       "  'Barracks',\n",
       "  'SupplyDepot',\n",
       "  'MissileTurret',\n",
       "  'MissileTurret',\n",
       "  'MissileTurret',\n",
       "  'SupplyDepot',\n",
       "  'MissileTurret',\n",
       "  'CommandCenter',\n",
       "  'SupplyDepot',\n",
       "  'SupplyDepot',\n",
       "  'SupplyDepot',\n",
       "  'MissileTurret',\n",
       "  'MissileTurret',\n",
       "  'MissileTurret',\n",
       "  'PlanetaryFortress',\n",
       "  'GhostAcademy',\n",
       "  'Barracks',\n",
       "  'Barracks']]"
      ]
     },
     "execution_count": 88,
     "metadata": {},
     "output_type": "execute_result"
    }
   ],
   "source": [
    "bo[:3]"
   ]
  },
  {
   "cell_type": "code",
   "execution_count": 77,
   "metadata": {},
   "outputs": [
    {
     "data": {
      "text/plain": [
       "[]"
      ]
     },
     "execution_count": 77,
     "metadata": {},
     "output_type": "execute_result"
    }
   ],
   "source": [
    "[b['name'] for b in replay['players'][1]['buildOrder'] if b['name'] in terran_buildings]"
   ]
  },
  {
   "cell_type": "code",
   "execution_count": 80,
   "metadata": {},
   "outputs": [
    {
     "data": {
      "text/plain": [
       "'Zerg'"
      ]
     },
     "execution_count": 80,
     "metadata": {},
     "output_type": "execute_result"
    }
   ],
   "source": [
    "replay['players'][1]['race']"
   ]
  },
  {
   "cell_type": "code",
   "execution_count": null,
   "metadata": {},
   "outputs": [],
   "source": []
  }
 ],
 "metadata": {
  "kernelspec": {
   "display_name": "SC2 (Py36)",
   "language": "python",
   "name": "venv"
  },
  "language_info": {
   "codemirror_mode": {
    "name": "ipython",
    "version": 3
   },
   "file_extension": ".py",
   "mimetype": "text/x-python",
   "name": "python",
   "nbconvert_exporter": "python",
   "pygments_lexer": "ipython3",
   "version": "3.6.7"
  }
 },
 "nbformat": 4,
 "nbformat_minor": 2
}
