{
 "cells": [
  {
   "cell_type": "code",
   "execution_count": 57,
   "metadata": {},
   "outputs": [],
   "source": [
    "from glob import glob\n",
    "import pandas as pd\n",
    "import re\n",
    "import matplotlib.pyplot as plt\n",
    "import seaborn as sns"
   ]
  },
  {
   "cell_type": "markdown",
   "metadata": {},
   "source": [
    "### Folder extracted replays"
   ]
  },
  {
   "cell_type": "code",
   "execution_count": 8,
   "metadata": {},
   "outputs": [],
   "source": [
    "datasetfolder = \"i:/StarCraft_BO/replayActionList/*\""
   ]
  },
  {
   "cell_type": "code",
   "execution_count": 9,
   "metadata": {},
   "outputs": [],
   "source": [
    "datasetfiles = glob(datasetfolder)"
   ]
  },
  {
   "cell_type": "code",
   "execution_count": 11,
   "metadata": {},
   "outputs": [
    {
     "data": {
      "text/plain": [
       "'i:/StarCraft_BO/replayActionList\\\\398305.csv'"
      ]
     },
     "execution_count": 11,
     "metadata": {},
     "output_type": "execute_result"
    }
   ],
   "source": [
    "datasetfiles[0]"
   ]
  },
  {
   "cell_type": "markdown",
   "metadata": {},
   "source": [
    "### Explore files"
   ]
  },
  {
   "cell_type": "code",
   "execution_count": 12,
   "metadata": {},
   "outputs": [],
   "source": [
    "with open(datasetfiles[0], 'r') as file:\n",
    "    data = file.readlines()"
   ]
  },
  {
   "cell_type": "code",
   "execution_count": 15,
   "metadata": {},
   "outputs": [
    {
     "data": {
      "text/plain": [
       "['Sc2gears 14.3.3 Command Line Interface\\n',\n",
       " '-------print-action-list\\n',\n",
       " '20\\tSpaceCore\\tMove screen x=62.00,y=21.76; distance=34.00; pitch=21.80-¦; yaw=-90.00-¦\\n',\n",
       " '44\\tHybriD\\tMove screen x=24.50,y=62.26; distance=34.00; pitch=21.80-¦; yaw=-90.00-¦\\n',\n",
       " '56\\tHybriD\\tSelect Drone x6 (10248,1024c,10250,10254,10258,1025c)\\n',\n",
       " '64\\tSpaceCore\\tSelect Larva x3 (10270,10274,10278)\\n',\n",
       " '64\\tSpaceCore\\tTrain Drone\\n',\n",
       " '88\\tSpaceCore\\tSelect Egg (10270), Deselect 1 unit\\n',\n",
       " '100\\tSpaceCore\\tSelect Drone x6 (10228,1022c,10230,10234,10238,1023c), Deselect all\\n',\n",
       " '100\\tHybriD\\tRight click; target: Mineral Field (100d0); target: x=21.00,y=65.50\\n']"
      ]
     },
     "execution_count": 15,
     "metadata": {},
     "output_type": "execute_result"
    }
   ],
   "source": [
    "data[:10]"
   ]
  },
  {
   "cell_type": "code",
   "execution_count": 16,
   "metadata": {},
   "outputs": [
    {
     "data": {
      "text/plain": [
       "['44736\\tHybriD\\tHotkey Select 2\\n',\n",
       " '44748\\tHybriD\\tMove screen x=58.76,y=24.97\\n',\n",
       " '44760\\tHybriD\\tDeselect 1 unit\\n',\n",
       " '44768\\tHybriD\\tDeselect 16 units\\n',\n",
       " '44768\\tHybriD\\tHotkey Select 4\\n',\n",
       " '44792\\tHybriD\\tSelect Roach x7 (203dc,30404,40464,20468,1048c,104a8,104ac), Zergling x10 (50234,302a8,b02b0,902dc,70310,d03f8,50420,204c8,304d4,404dc), Deselect all\\n',\n",
       " '44792\\tHybriD\\tHotkey Select 2\\n',\n",
       " '44804\\tHybriD\\tHotkey Select 4\\n',\n",
       " '44816\\tHybriD\\tMove screen x=27.50,y=61.76\\n',\n",
       " '44824\\tSpaceCore\\tLeave game\\n']"
      ]
     },
     "execution_count": 16,
     "metadata": {},
     "output_type": "execute_result"
    }
   ],
   "source": [
    "data[-10:]"
   ]
  },
  {
   "cell_type": "markdown",
   "metadata": {},
   "source": [
    "First column is the time in game frames. One frame is 11.278 ms.  \n",
    "Second column is the player name.  \n",
    "Third column is the action and parameters.  "
   ]
  },
  {
   "cell_type": "markdown",
   "metadata": {},
   "source": [
    "### Split players"
   ]
  },
  {
   "cell_type": "code",
   "execution_count": 84,
   "metadata": {},
   "outputs": [],
   "source": [
    "def extract_players_names(filepath):\n",
    "    with open(filepath, 'r') as file:\n",
    "        player_names = list(set([x.split()[1] for x in file.readlines()[2:]]))\n",
    "    return player_names"
   ]
  },
  {
   "cell_type": "code",
   "execution_count": 89,
   "metadata": {},
   "outputs": [],
   "source": [
    "def split_players(filepath):\n",
    "    player_names = extract_players_names(filepath)\n",
    "    with open(filepath, 'r') as file:        \n",
    "        player1 = []\n",
    "        player2 = []\n",
    "        for line in file.readlines()[2:]:\n",
    "            if line.split()[1] == player_names[0]:\n",
    "                player1.append(line)\n",
    "            elif line.split()[1] == player_names[1]:\n",
    "                player2.append(line)\n",
    "    return player1, player2"
   ]
  },
  {
   "cell_type": "code",
   "execution_count": 240,
   "metadata": {},
   "outputs": [],
   "source": [
    "p1, p2 = split_players(datasetfiles[7])"
   ]
  },
  {
   "cell_type": "code",
   "execution_count": 279,
   "metadata": {},
   "outputs": [
    {
     "name": "stdout",
     "output_type": "stream",
     "text": [
      "['32', 'Move screen x=135.50,y=101.26; distance=34.00; pitch=21.80-¦; yaw=-90.00-¦\\n']\n",
      "['32', 'Select Hatchery (10240)\\n']\n",
      "['100', 'Select Drone x6 (10244,10248,1024c,10250,10254,10258), Deselect all\\n']\n"
     ]
    }
   ],
   "source": [
    "for line in p1[:3]:\n",
    "    print(line.split('\\t')[::2])"
   ]
  },
  {
   "cell_type": "markdown",
   "metadata": {},
   "source": [
    "### Extract Move Screen"
   ]
  },
  {
   "cell_type": "code",
   "execution_count": 282,
   "metadata": {},
   "outputs": [],
   "source": [
    "def extract_positions(player_moves):\n",
    "    frames = []\n",
    "    x_position = []\n",
    "    y_position = []\n",
    "    for line in player_moves:\n",
    "        t, _, a = line.split('\\t')\n",
    "        if re.match(r'Move screen', a):\n",
    "            m= re.search(r'x=(\\d+\\.\\d+),y=(\\d+\\.\\d+)', a)\n",
    "            x = m.group(1)\n",
    "            y = m.group(2)\n",
    "#             y = re.search(r'', a).group(1)\n",
    "            frames.append(int(t))\n",
    "            x_position.append(float(x))\n",
    "            y_position.append(float(y))\n",
    "    return pd.DataFrame({'frames': frames, 'x':x_position, 'y':y_position})"
   ]
  },
  {
   "cell_type": "code",
   "execution_count": 283,
   "metadata": {},
   "outputs": [],
   "source": [
    "moveScreen_p1 = extract_positions(p1)\n",
    "moveScreen_p2 = extract_positions(p2)"
   ]
  },
  {
   "cell_type": "code",
   "execution_count": 284,
   "metadata": {},
   "outputs": [],
   "source": [
    "moveScreen_p1['player'] = 'p1'\n",
    "moveScreen_p2['player'] = 'p2'"
   ]
  },
  {
   "cell_type": "code",
   "execution_count": 285,
   "metadata": {},
   "outputs": [],
   "source": [
    "df = pd.concat([moveScreen_p1, moveScreen_p2])"
   ]
  },
  {
   "cell_type": "code",
   "execution_count": 286,
   "metadata": {},
   "outputs": [
    {
     "data": {
      "image/png": "[encoded data removed]",
      "text/plain": [
       "<Figure size 432x288 with 1 Axes>"
      ]
     },
     "metadata": {
      "needs_background": "light"
     },
     "output_type": "display_data"
    }
   ],
   "source": [
    "sns.scatterplot(x='x',y='y', hue='player', alpha=0.3, data=df)\n",
    "plt.show()"
   ]
  },
  {
   "cell_type": "code",
   "execution_count": 246,
   "metadata": {},
   "outputs": [],
   "source": [
    "df1 = df[df.player=='p1'].copy()\n",
    "df1['count'] = 1\n",
    "df1.x = df1.x.astype(int)\n",
    "df1.y = df1.y.astype(int)"
   ]
  },
  {
   "cell_type": "code",
   "execution_count": 247,
   "metadata": {},
   "outputs": [],
   "source": [
    "df2 = df[df.player=='p2'].copy()\n",
    "df2['count'] = 1\n",
    "df2.x = df2.x.astype(int)\n",
    "df2.y = df2.y.astype(int)"
   ]
  },
  {
   "cell_type": "code",
   "execution_count": 248,
   "metadata": {},
   "outputs": [],
   "source": [
    "pt = pd.pivot_table(df1, values='count', index='y', columns='x', aggfunc='sum')"
   ]
  },
  {
   "cell_type": "code",
   "execution_count": 249,
   "metadata": {},
   "outputs": [],
   "source": [
    "pt2 = pd.pivot_table(df2, values='count', index='y', columns='x', aggfunc='sum')"
   ]
  },
  {
   "cell_type": "code",
   "execution_count": 250,
   "metadata": {},
   "outputs": [
    {
     "data": {
      "image/png": "[encoded data removed]",
      "text/plain": [
       "<Figure size 432x288 with 1 Axes>"
      ]
     },
     "metadata": {},
     "output_type": "display_data"
    }
   ],
   "source": [
    "sns.heatmap(pt, square=True, cmap=\"Blues\", yticklabels=False, xticklabels=False, cbar=False)\n",
    "plt.show()"
   ]
  },
  {
   "cell_type": "code",
   "execution_count": 251,
   "metadata": {},
   "outputs": [
    {
     "data": {
      "image/png": "[encoded data removed]",
      "text/plain": [
       "<Figure size 432x288 with 1 Axes>"
      ]
     },
     "metadata": {},
     "output_type": "display_data"
    }
   ],
   "source": [
    "sns.heatmap(pt2, square=True, cmap=\"Reds\", yticklabels=False, xticklabels=False, cbar=False)\n",
    "plt.show()"
   ]
  },
  {
   "cell_type": "markdown",
   "metadata": {},
   "source": [
    "### Extract training units"
   ]
  },
  {
   "cell_type": "code",
   "execution_count": 252,
   "metadata": {},
   "outputs": [],
   "source": [
    "actions = [y.split()[:2] for y in [x.split('\\t')[2] for x in p2]]"
   ]
  },
  {
   "cell_type": "code",
   "execution_count": 257,
   "metadata": {},
   "outputs": [
    {
     "data": {
      "text/plain": [
       "[['Move', 'screen'], ['Select', 'SCV'], ['Right', 'click;']]"
      ]
     },
     "execution_count": 257,
     "metadata": {},
     "output_type": "execute_result"
    }
   ],
   "source": [
    "actions[:3]"
   ]
  },
  {
   "cell_type": "code",
   "execution_count": 258,
   "metadata": {},
   "outputs": [],
   "source": [
    "action_types = set([x[0] for x in actions if len(x)>1])"
   ]
  },
  {
   "cell_type": "code",
   "execution_count": 259,
   "metadata": {},
   "outputs": [
    {
     "data": {
      "text/plain": [
       "{'Attack;',\n",
       " 'Build',\n",
       " 'Calldown',\n",
       " 'Deselect',\n",
       " 'Hotkey',\n",
       " 'Land',\n",
       " 'Leave',\n",
       " 'Lift',\n",
       " 'Lower',\n",
       " 'Move',\n",
       " 'Raiser',\n",
       " 'Research',\n",
       " 'Right',\n",
       " 'Scanner',\n",
       " 'Select',\n",
       " 'Selection',\n",
       " 'Set',\n",
       " 'Siege',\n",
       " 'Stimpack',\n",
       " 'Tank',\n",
       " 'Train',\n",
       " 'Upgrade',\n",
       " '[Failed]',\n",
       " '[MinimapClick]',\n",
       " '[Queued]',\n",
       " '[WireframeClick]'}"
      ]
     },
     "execution_count": 259,
     "metadata": {},
     "output_type": "execute_result"
    }
   ],
   "source": [
    "action_types"
   ]
  },
  {
   "cell_type": "code",
   "execution_count": 260,
   "metadata": {},
   "outputs": [],
   "source": [
    "action_target = set([x[1] for x in actions if len(x) > 1])"
   ]
  },
  {
   "cell_type": "code",
   "execution_count": 261,
   "metadata": {},
   "outputs": [
    {
     "data": {
      "text/plain": [
       "{'(Command',\n",
       " '(Factory);',\n",
       " '(Mixed',\n",
       " '(Orbital',\n",
       " '1',\n",
       " '10',\n",
       " '12',\n",
       " '2',\n",
       " '25',\n",
       " '3',\n",
       " '4',\n",
       " '45',\n",
       " '5',\n",
       " '6',\n",
       " '8',\n",
       " '9',\n",
       " 'Armory',\n",
       " 'Armory;',\n",
       " 'Assign',\n",
       " 'Attack;',\n",
       " 'Barracks',\n",
       " 'Barracks;',\n",
       " 'Build',\n",
       " 'Calldown',\n",
       " 'Command',\n",
       " 'Destructible',\n",
       " 'Engineering',\n",
       " 'Extra',\n",
       " 'Factory',\n",
       " 'Factory;',\n",
       " 'Hellion',\n",
       " 'MULE',\n",
       " 'Marauder',\n",
       " 'Marine',\n",
       " 'Mineral',\n",
       " 'Missile',\n",
       " 'Mode',\n",
       " 'Off',\n",
       " 'Orbital',\n",
       " 'Planetary',\n",
       " 'Rally',\n",
       " 'Reactor',\n",
       " 'Refinery;',\n",
       " 'Right',\n",
       " 'SCV',\n",
       " 'Select',\n",
       " 'Siege',\n",
       " 'Supply',\n",
       " 'Sweep',\n",
       " 'Tech',\n",
       " 'Terran',\n",
       " 'Thor',\n",
       " 'Upgrade',\n",
       " 'Vespene',\n",
       " '[MinimapClick]',\n",
       " '[WireframeCancel]',\n",
       " 'all',\n",
       " 'auto-update',\n",
       " 'click;',\n",
       " 'game',\n",
       " 'screen',\n",
       " 'target:',\n",
       " 'to'}"
      ]
     },
     "execution_count": 261,
     "metadata": {},
     "output_type": "execute_result"
    }
   ],
   "source": [
    "action_target"
   ]
  },
  {
   "cell_type": "code",
   "execution_count": 268,
   "metadata": {},
   "outputs": [],
   "source": [
    "p2_training = []\n",
    "for line in p2:\n",
    "    cols = line.split('\\t')\n",
    "    action = cols[2].split()[:2]\n",
    "    if len(action)>1 and action[0] == 'Train':\n",
    "        p2_training.append((cols[0], action[1]))"
   ]
  },
  {
   "cell_type": "code",
   "execution_count": 269,
   "metadata": {},
   "outputs": [
    {
     "data": {
      "text/plain": [
       "[('256', 'SCV'),\n",
       " ('1248', 'SCV'),\n",
       " ('2248', 'SCV'),\n",
       " ('3240', 'SCV'),\n",
       " ('4420', 'SCV'),\n",
       " ('4444', 'SCV'),\n",
       " ('5108', 'SCV'),\n",
       " ('6984', 'SCV'),\n",
       " ('6996', 'SCV'),\n",
       " ('7628', 'SCV'),\n",
       " ('8492', 'SCV'),\n",
       " ('9144', 'SCV'),\n",
       " ('10800', 'Marine'),\n",
       " ('12632', 'Marine'),\n",
       " ('13332', 'SCV'),\n",
       " ('13364', 'SCV'),\n",
       " ('14288', 'Marine'),\n",
       " ('15604', 'SCV'),\n",
       " ('16628', 'SCV'),\n",
       " ('17856', 'SCV'),\n",
       " ('18408', 'SCV'),\n",
       " ('19688', 'SCV'),\n",
       " ('20568', 'SCV'),\n",
       " ('20792', 'Hellion'),\n",
       " ('20816', 'Hellion'),\n",
       " ('21016', 'Hellion'),\n",
       " ('21040', 'Hellion'),\n",
       " ('21828', 'SCV'),\n",
       " ('22604', 'Hellion'),\n",
       " ('22616', 'Hellion'),\n",
       " ('22636', 'Hellion'),\n",
       " ('24244', 'SCV'),\n",
       " ('24268', 'SCV'),\n",
       " ('24368', 'Marauder'),\n",
       " ('24864', 'Hellion'),\n",
       " ('24876', 'Hellion'),\n",
       " ('24944', 'Hellion'),\n",
       " ('24956', 'Hellion'),\n",
       " ('26124', 'SCV'),\n",
       " ('26440', 'Marauder'),\n",
       " ('27488', 'SCV'),\n",
       " ('28916', 'Hellion'),\n",
       " ('28928', 'Hellion'),\n",
       " ('30084', 'Marauder'),\n",
       " ('30200', 'SCV'),\n",
       " ('30660', 'SCV'),\n",
       " ('30672', 'SCV'),\n",
       " ('32492', 'Hellion'),\n",
       " ('32504', 'Hellion'),\n",
       " ('32664', 'Marauder'),\n",
       " ('35284', 'Hellion'),\n",
       " ('35296', 'Hellion'),\n",
       " ('35376', 'Marauder'),\n",
       " ('36352', 'SCV'),\n",
       " ('36364', 'SCV'),\n",
       " ('37196', 'Hellion'),\n",
       " ('37208', 'Hellion'),\n",
       " ('38084', 'Siege'),\n",
       " ('38952', 'Marauder'),\n",
       " ('40988', 'Marauder'),\n",
       " ('41156', 'Marine'),\n",
       " ('41168', 'Marine'),\n",
       " ('41348', 'Siege'),\n",
       " ('44376', 'Marine'),\n",
       " ('44388', 'Marine'),\n",
       " ('44400', 'Marine'),\n",
       " ('44444', 'Hellion'),\n",
       " ('44464', 'Hellion'),\n",
       " ('44488', 'Siege'),\n",
       " ('45140', 'Hellion'),\n",
       " ('45152', 'Hellion'),\n",
       " ('46468', 'Hellion'),\n",
       " ('46480', 'Hellion'),\n",
       " ('46840', 'SCV'),\n",
       " ('46852', 'SCV'),\n",
       " ('47044', 'Marine'),\n",
       " ('47052', 'Marine'),\n",
       " ('47064', 'Marine'),\n",
       " ('48764', 'Hellion'),\n",
       " ('48876', 'Marine'),\n",
       " ('48900', 'Marine'),\n",
       " ('48912', 'Marine'),\n",
       " ('48920', 'Marine'),\n",
       " ('50136', 'Siege'),\n",
       " ('50248', 'Hellion'),\n",
       " ('50260', 'Hellion'),\n",
       " ('50340', 'SCV'),\n",
       " ('51756', 'Marine'),\n",
       " ('51768', 'Marine'),\n",
       " ('51936', 'SCV'),\n",
       " ('51948', 'SCV'),\n",
       " ('52892', 'Marine'),\n",
       " ('52904', 'Marine'),\n",
       " ('53040', 'Hellion'),\n",
       " ('53052', 'Hellion'),\n",
       " ('53196', 'Siege'),\n",
       " ('53424', 'Marine'),\n",
       " ('53432', 'Marine'),\n",
       " ('55628', 'Marine'),\n",
       " ('55652', 'Marine'),\n",
       " ('55660', 'Marine'),\n",
       " ('55672', 'Marine'),\n",
       " ('55796', 'Hellion'),\n",
       " ('55808', 'Hellion'),\n",
       " ('55964', 'SCV'),\n",
       " ('57608', 'Marine'),\n",
       " ('57620', 'Marine'),\n",
       " ('57632', 'Marine'),\n",
       " ('57652', 'Marine'),\n",
       " ('57664', 'Marine'),\n",
       " ('58664', 'Marine'),\n",
       " ('58676', 'Marine'),\n",
       " ('58700', 'Marine'),\n",
       " ('62040', 'Marine'),\n",
       " ('62052', 'Marine'),\n",
       " ('62064', 'Marine'),\n",
       " ('62088', 'Marine'),\n",
       " ('62096', 'Marine'),\n",
       " ('62108', 'Marine'),\n",
       " ('62120', 'Marine'),\n",
       " ('62144', 'Marine'),\n",
       " ('63616', 'SCV'),\n",
       " ('63628', 'SCV'),\n",
       " ('63708', 'SCV'),\n",
       " ('64076', 'Marine'),\n",
       " ('64088', 'Marine'),\n",
       " ('64112', 'Marine'),\n",
       " ('64256', 'Hellion'),\n",
       " ('64280', 'Hellion'),\n",
       " ('64304', 'Siege'),\n",
       " ('66092', 'Marine'),\n",
       " ('66104', 'Marine'),\n",
       " ('66124', 'Marine'),\n",
       " ('66136', 'Marine'),\n",
       " ('66148', 'Marine'),\n",
       " ('66160', 'Marine'),\n",
       " ('67520', 'Marine'),\n",
       " ('67544', 'Marine'),\n",
       " ('67564', 'Marine'),\n",
       " ('68556', 'Siege'),\n",
       " ('68568', 'Siege'),\n",
       " ('68624', 'Hellion'),\n",
       " ('68636', 'Hellion'),\n",
       " ('68648', 'Hellion'),\n",
       " ('69636', 'Marine'),\n",
       " ('69648', 'Marine'),\n",
       " ('69672', 'Marine'),\n",
       " ('69680', 'Marine'),\n",
       " ('69692', 'Marine'),\n",
       " ('69704', 'Marine'),\n",
       " ('69716', 'Marine'),\n",
       " ('69736', 'Marine'),\n",
       " ('71256', 'Hellion'),\n",
       " ('71876', 'SCV'),\n",
       " ('71896', 'SCV'),\n",
       " ('71920', 'SCV'),\n",
       " ('72088', 'Marine'),\n",
       " ('72112', 'Marine'),\n",
       " ('72124', 'Marine'),\n",
       " ('72136', 'Marine'),\n",
       " ('72144', 'Marine'),\n",
       " ('72156', 'Marine'),\n",
       " ('73080', 'Marine'),\n",
       " ('73092', 'Marine'),\n",
       " ('73112', 'Marine'),\n",
       " ('73620', 'Marine'),\n",
       " ('73632', 'Marine'),\n",
       " ('73644', 'Marine'),\n",
       " ('73744', 'Hellion'),\n",
       " ('73756', 'Hellion'),\n",
       " ('74428', 'Marine'),\n",
       " ('74440', 'Marine'),\n",
       " ('74452', 'Marine'),\n",
       " ('74464', 'Marine'),\n",
       " ('74508', 'Siege'),\n",
       " ('76532', 'Marine'),\n",
       " ('76544', 'Marine'),\n",
       " ('76568', 'Marine'),\n",
       " ('79404', 'Marine'),\n",
       " ('79416', 'Marine'),\n",
       " ('79424', 'Marine'),\n",
       " ('79436', 'Marine'),\n",
       " ('79448', 'Marine'),\n",
       " ('79472', 'Marine'),\n",
       " ('79480', 'Marine'),\n",
       " ('79492', 'Marine'),\n",
       " ('79504', 'Marine'),\n",
       " ('79516', 'Marine'),\n",
       " ('79540', 'Marine'),\n",
       " ('79684', 'Hellion'),\n",
       " ('79708', 'Hellion'),\n",
       " ('81316', 'Marine'),\n",
       " ('81328', 'Marine'),\n",
       " ('81340', 'Marine'),\n",
       " ('81348', 'Marine'),\n",
       " ('81372', 'Marine'),\n",
       " ('83036', 'Marine'),\n",
       " ('83048', 'Marine'),\n",
       " ('83060', 'Marine'),\n",
       " ('83072', 'Marine'),\n",
       " ('83092', 'Marine'),\n",
       " ('83104', 'Marine'),\n",
       " ('83116', 'Marine'),\n",
       " ('84108', 'Marine'),\n",
       " ('84116', 'Marine'),\n",
       " ('84140', 'Marine'),\n",
       " ('84196', 'Siege'),\n",
       " ('85264', 'Hellion'),\n",
       " ('85276', 'Hellion'),\n",
       " ('86244', 'Marine'),\n",
       " ('86244', 'Marine'),\n",
       " ('86268', 'Marine'),\n",
       " ('86276', 'Marine'),\n",
       " ('86288', 'Marine'),\n",
       " ('86300', 'Marine'),\n",
       " ('86424', 'Siege'),\n",
       " ('87832', 'Marine'),\n",
       " ('87840', 'Marine'),\n",
       " ('87852', 'Marine'),\n",
       " ('90476', 'Marine'),\n",
       " ('90488', 'Marine'),\n",
       " ('90496', 'Marine'),\n",
       " ('91240', 'SCV'),\n",
       " ('91264', 'SCV'),\n",
       " ('91272', 'SCV'),\n",
       " ('91284', 'SCV'),\n",
       " ('91296', 'SCV'),\n",
       " ('91308', 'SCV'),\n",
       " ('92636', 'SCV'),\n",
       " ('92648', 'SCV'),\n",
       " ('92668', 'SCV'),\n",
       " ('92680', 'SCV'),\n",
       " ('95056', 'Marine'),\n",
       " ('95056', 'Marine'),\n",
       " ('95076', 'Marine'),\n",
       " ('95628', 'Marine'),\n",
       " ('95640', 'Marine'),\n",
       " ('95652', 'Marine'),\n",
       " ('95664', 'Marine'),\n",
       " ('95684', 'Marine'),\n",
       " ('95844', 'Marine'),\n",
       " ('95852', 'Marine'),\n",
       " ('95864', 'Marine'),\n",
       " ('95976', 'Siege'),\n",
       " ('95988', 'Siege'),\n",
       " ('96924', 'Siege'),\n",
       " ('97068', 'Hellion'),\n",
       " ('97080', 'Hellion'),\n",
       " ('97472', 'SCV'),\n",
       " ('97484', 'SCV'),\n",
       " ('97496', 'SCV'),\n",
       " ('97508', 'SCV'),\n",
       " ('97520', 'SCV'),\n",
       " ('98396', 'Marine'),\n",
       " ('98408', 'Marine'),\n",
       " ('98420', 'Marine'),\n",
       " ('98800', 'Marine'),\n",
       " ('99028', 'Thor'),\n",
       " ('99948', 'Marine'),\n",
       " ('99960', 'Marine'),\n",
       " ('99972', 'Marine'),\n",
       " ('99996', 'Marine'),\n",
       " ('100692', 'SCV'),\n",
       " ('100704', 'SCV'),\n",
       " ('100724', 'SCV'),\n",
       " ('100736', 'SCV'),\n",
       " ('100748', 'SCV'),\n",
       " ('100760', 'SCV'),\n",
       " ('101096', 'Siege'),\n",
       " ('101928', 'Marine'),\n",
       " ('101940', 'Marine'),\n",
       " ('101952', 'Marine'),\n",
       " ('101976', 'Marine'),\n",
       " ('101984', 'Marine'),\n",
       " ('103932', 'Marine'),\n",
       " ('103944', 'Marine'),\n",
       " ('103968', 'Marine'),\n",
       " ('103976', 'Marine'),\n",
       " ('103988', 'Marine'),\n",
       " ('104012', 'Marine'),\n",
       " ('104024', 'Marine'),\n",
       " ('104032', 'Marine'),\n",
       " ('104720', 'Marine'),\n",
       " ('104732', 'Marine'),\n",
       " ('104744', 'Marine'),\n",
       " ('104764', 'Marine'),\n",
       " ('104868', 'Thor'),\n",
       " ('104876', 'Thor'),\n",
       " ('106260', 'Marine'),\n",
       " ('106284', 'Marine'),\n",
       " ('106296', 'Marine'),\n",
       " ('107568', 'Thor'),\n",
       " ('107636', 'Marine'),\n",
       " ('107644', 'Marine'),\n",
       " ('107656', 'Marine'),\n",
       " ('107680', 'Marine'),\n",
       " ('107692', 'Marine'),\n",
       " ('107700', 'Marine'),\n",
       " ('107712', 'Marine'),\n",
       " ('107736', 'Marine'),\n",
       " ('109132', 'Marine'),\n",
       " ('109152', 'Marine'),\n",
       " ('109648', 'Marine'),\n",
       " ('109672', 'Marine'),\n",
       " ('109692', 'Marine'),\n",
       " ('109704', 'Marine'),\n",
       " ('111068', 'Marine'),\n",
       " ('111088', 'Marine'),\n",
       " ('111100', 'Marine'),\n",
       " ('111112', 'Marine'),\n",
       " ('111212', 'Siege'),\n",
       " ('113000', 'Marine'),\n",
       " ('113024', 'Marine'),\n",
       " ('113036', 'Marine'),\n",
       " ('113048', 'Marine'),\n",
       " ('113056', 'Marine'),\n",
       " ('113080', 'Marine'),\n",
       " ('113112', 'Marine'),\n",
       " ('114004', 'Marine'),\n",
       " ('114016', 'Marine'),\n",
       " ('114024', 'Marine'),\n",
       " ('114036', 'Marine'),\n",
       " ('114060', 'Marine'),\n",
       " ('114072', 'Marine'),\n",
       " ('115060', 'Marine'),\n",
       " ('115072', 'Marine'),\n",
       " ('118064', 'Marine'),\n",
       " ('118076', 'Marine'),\n",
       " ('118100', 'Marine'),\n",
       " ('118108', 'Marine'),\n",
       " ('118120', 'Marine'),\n",
       " ('118132', 'Marine'),\n",
       " ('118156', 'Marine')]"
      ]
     },
     "execution_count": 269,
     "metadata": {},
     "output_type": "execute_result"
    }
   ],
   "source": [
    "p2_training"
   ]
  },
  {
   "cell_type": "markdown",
   "metadata": {},
   "source": [
    "## Extract building"
   ]
  },
  {
   "cell_type": "code",
   "execution_count": 318,
   "metadata": {},
   "outputs": [],
   "source": [
    "p2_building = []\n",
    "for line in p2:\n",
    "    cols = line.split('\\t')\n",
    "    action_line = cols[2].split(';')\n",
    "    action_len = len(action_line)\n",
    "    if re.match(r'Build',cols[2]):\n",
    "        if action_len == 3 :\n",
    "            build_type = ''.join(action_line[0].split(' ')[1:])\n",
    "            object_target = ''.join(action_line[1].split(' ')[2:4])\n",
    "            m = re.search(r'x=(\\d+\\.\\d+),y=(\\d+\\.\\d+)', action_line[2])\n",
    "            x_pos = float(m.group(1))\n",
    "            y_pos = float(m.group(2))\n",
    "        elif action_len == 2:\n",
    "            \n",
    "            t = re.search(r'\\((\\w+)\\)', ' '.join(action_line[0].split(' ')[1:]))\n",
    "            if t:\n",
    "                object_target = t.group(1)\n",
    "                build_type = ''.join(action_line[0].split(' ')[1:-1])\n",
    "            else:\n",
    "                object_target = ''\n",
    "                build_type = ''.join(action_line[0].split(' ')[1:])\n",
    "            m = re.search(r'x=(\\d+\\.\\d+),y=(\\d+\\.\\d+)', action_line[1])\n",
    "            x_pos = float(m.group(1))\n",
    "            y_pos = float(m.group(2))\n",
    "\n",
    "        p2_building.append((cols[0], build_type, x_pos, y_pos, object_target))"
   ]
  },
  {
   "cell_type": "code",
   "execution_count": 319,
   "metadata": {},
   "outputs": [
    {
     "data": {
      "text/plain": [
       "[('3856', 'SupplyDepot', 38.0, 81.0, ''),\n",
       " ('6436', 'Barracks', 40.5, 81.5, ''),\n",
       " ('9652', 'Refinery', 25.5, 56.5, 'VespeneGeyser'),\n",
       " ('10732', 'SupplyDepot', 41.0, 84.0, ''),\n",
       " ('15232', 'Factory', 33.5, 71.5, ''),\n",
       " ('16908', 'Factory', 33.5, 71.5, ''),\n",
       " ('17764', 'CommandCenter', 32.5, 63.5, ''),\n",
       " ('18620', 'SupplyDepot', 23.0, 70.0, ''),\n",
       " ('19520', 'EngineeringBay', 30.5, 69.5, ''),\n",
       " ('20456', 'TechLab', 37.5, 72.5, 'Barracks'),\n",
       " ('24528', 'SupplyDepot', 26.0, 73.0, ''),\n",
       " ('26216', 'SupplyDepot', 32.0, 60.0, ''),\n",
       " ('26956', 'Factory', 31.5, 74.5, ''),\n",
       " ('27916', 'Refinery', 25.5, 70.5, 'VespeneGeyser'),\n",
       " ('31008', 'Refinery', 25.5, 70.5, 'VespeneGeyser'),\n",
       " ('31076', 'Barracks', 38.5, 67.5, ''),\n",
       " ('31460', 'MissileTurret', 19.0, 68.0, ''),\n",
       " ('31492', 'MissileTurret', 18.0, 62.0, ''),\n",
       " ('31584', 'MissileTurret', 20.0, 56.0, ''),\n",
       " ('35792', 'SupplyDepot', 31.0, 66.0, ''),\n",
       " ('35824', 'SupplyDepot', 31.0, 64.0, ''),\n",
       " ('35856', 'SupplyDepot', 31.0, 62.0, ''),\n",
       " ('36072', 'MissileTurret', 16.0, 94.0, ''),\n",
       " ('36116', 'MissileTurret', 15.0, 90.0, ''),\n",
       " ('36252', 'MissileTurret', 17.0, 85.0, ''),\n",
       " ('37724', 'MissileTurret', 17.0, 85.0, ''),\n",
       " ('47708', 'Barracks', 38.5, 64.5, ''),\n",
       " ('48000', 'MissileTurret', 43.0, 67.0, ''),\n",
       " ('48044', 'MissileTurret', 41.0, 59.0, ''),\n",
       " ('48192', 'MissileTurret', 35.0, 57.0, ''),\n",
       " ('50608', 'Refinery', 22.5, 83.5, 'VespeneGeyser'),\n",
       " ('50844', 'Refinery', 27.5, 83.5, 'VespeneGeyser'),\n",
       " ('51072', 'SupplyDepot', 24.0, 96.0, ''),\n",
       " ('51160', 'SupplyDepot', 24.0, 94.0, ''),\n",
       " ('53580', 'SupplyDepot', 24.0, 94.0, ''),\n",
       " ('53884', 'Barracks', 28.5, 88.5, ''),\n",
       " ('56056', 'CommandCenter', 29.5, 101.5, ''),\n",
       " ('62504', 'SupplyDepot', 31.0, 62.0, ''),\n",
       " ('62536', 'SupplyDepot', 31.0, 59.0, ''),\n",
       " ('62580', 'SupplyDepot', 30.0, 56.0, ''),\n",
       " ('62628', 'SupplyDepot', 28.0, 55.0, ''),\n",
       " ('62660', 'SupplyDepot', 33.0, 57.0, ''),\n",
       " ('63200', 'MissileTurret', 41.0, 61.0, ''),\n",
       " ('63244', 'MissileTurret', 38.0, 59.0, ''),\n",
       " ('63436', 'MissileTurret', 39.0, 56.0, ''),\n",
       " ('63888', 'Reactor', 26.5, 94.5, 'Barracks'),\n",
       " ('64732', 'MissileTurret', 48.0, 114.0, ''),\n",
       " ('65100', 'MissileTurret', 56.0, 116.0, ''),\n",
       " ('65260', 'MissileTurret', 54.0, 118.0, ''),\n",
       " ('65316', 'MissileTurret', 49.0, 119.0, ''),\n",
       " ('70232', 'MissileTurret', 55.0, 112.0, ''),\n",
       " ('72640', 'Factory', 41.5, 75.5, ''),\n",
       " ('72876', 'Armory', 17.5, 64.5, ''),\n",
       " ('74856', 'MissileTurret', 55.0, 110.0, ''),\n",
       " ('79920', 'CommandCenter', 29.5, 98.5, ''),\n",
       " ('84400', 'CommandCenter', 29.5, 98.5, ''),\n",
       " ('84636', 'SupplyDepot', 43.0, 65.0, ''),\n",
       " ('87256', 'MissileTurret', 53.0, 114.0, ''),\n",
       " ('87292', 'MissileTurret', 56.0, 113.0, ''),\n",
       " ('87324', 'MissileTurret', 55.0, 109.0, ''),\n",
       " ('87404', 'MissileTurret', 49.0, 119.0, ''),\n",
       " ('88564', 'MissileTurret', 56.0, 107.0, ''),\n",
       " ('89012', 'MissileTurret', 42.0, 117.0, ''),\n",
       " ('93996', 'MissileTurret', 55.0, 113.0, ''),\n",
       " ('94032', 'MissileTurret', 55.0, 110.0, ''),\n",
       " ('94164', 'MissileTurret', 55.0, 116.0, ''),\n",
       " ('96280', 'MissileTurret', 48.0, 120.0, ''),\n",
       " ('96316', 'MissileTurret', 51.0, 120.0, ''),\n",
       " ('108276', 'MissileTurret', 49.0, 120.0, ''),\n",
       " ('108332', 'MissileTurret', 52.0, 119.0, ''),\n",
       " ('108928', 'CommandCenter', 29.5, 102.5, ''),\n",
       " ('114588', 'MissileTurret', 29.0, 138.0, ''),\n",
       " ('114632', 'MissileTurret', 32.0, 136.0, ''),\n",
       " ('114756', 'MissileTurret', 27.0, 142.0, '')]"
      ]
     },
     "execution_count": 319,
     "metadata": {},
     "output_type": "execute_result"
    }
   ],
   "source": [
    "p2_building"
   ]
  },
  {
   "cell_type": "code",
   "execution_count": 294,
   "metadata": {},
   "outputs": [
    {
     "data": {
      "text/plain": [
       "['3856\\tBallBreaker\\tBuild Supply Depot; target: x=38.00,y=81.00\\n',\n",
       " '6436\\tBallBreaker\\tBuild Barracks; target: x=40.50,y=81.50\\n',\n",
       " '9652\\tBallBreaker\\tBuild Refinery; target: Vespene Geyser (101d4); target: x=25.50,y=56.50\\n',\n",
       " '10732\\tBallBreaker\\tBuild Supply Depot; target: x=41.00,y=84.00\\n',\n",
       " '15232\\tBallBreaker\\tBuild Factory; target: x=33.50,y=71.50\\n',\n",
       " '16908\\tBallBreaker\\tBuild Reactor (Barracks)\\n',\n",
       " '17764\\tBallBreaker\\tBuild Command Center; target: x=32.50,y=63.50\\n',\n",
       " '18620\\tBallBreaker\\tBuild Supply Depot; target: x=23.00,y=70.00\\n',\n",
       " '19520\\tBallBreaker\\tBuild Engineering Bay; target: x=30.50,y=69.50\\n',\n",
       " '20456\\tBallBreaker\\tBuild Tech Lab (Barracks); target: x=37.50,y=72.50\\n',\n",
       " '24528\\tBallBreaker\\tBuild Supply Depot; target: x=26.00,y=73.00\\n',\n",
       " '26216\\tBallBreaker\\tBuild Supply Depot; target: x=32.00,y=60.00\\n',\n",
       " '26956\\tBallBreaker\\tBuild Factory; target: x=31.50,y=74.50\\n',\n",
       " '27916\\tBallBreaker\\tBuild Refinery; target: Vespene Geyser (101b0); target: x=25.50,y=70.50\\n',\n",
       " '31008\\tBallBreaker\\tBuild Tech Lab (Factory)\\n',\n",
       " '31076\\tBallBreaker\\tBuild Barracks; target: x=38.50,y=67.50\\n',\n",
       " '31460\\tBallBreaker\\tBuild Missile Turret; target: x=19.00,y=68.00\\n',\n",
       " '31492\\tBallBreaker\\tBuild Missile Turret; target: x=18.00,y=62.00\\n',\n",
       " '31584\\tBallBreaker\\tBuild Missile Turret; target: x=20.00,y=56.00\\n',\n",
       " '35792\\tBallBreaker\\tBuild Supply Depot; target: x=31.00,y=66.00\\n',\n",
       " '35824\\tBallBreaker\\tBuild Supply Depot; target: x=31.00,y=64.00\\n',\n",
       " '35856\\tBallBreaker\\tBuild Supply Depot; target: x=31.00,y=62.00\\n',\n",
       " '36072\\tBallBreaker\\tBuild Missile Turret; target: x=16.00,y=94.00\\n',\n",
       " '36116\\tBallBreaker\\tBuild Missile Turret; target: x=15.00,y=90.00\\n',\n",
       " '36252\\tBallBreaker\\tBuild Missile Turret; target: x=17.00,y=85.00\\n',\n",
       " '37724\\tBallBreaker\\tBuild Reactor (Barracks)\\n',\n",
       " '47708\\tBallBreaker\\tBuild Barracks; target: x=38.50,y=64.50\\n',\n",
       " '48000\\tBallBreaker\\tBuild Missile Turret; target: x=43.00,y=67.00\\n',\n",
       " '48044\\tBallBreaker\\tBuild Missile Turret; target: x=41.00,y=59.00\\n',\n",
       " '48192\\tBallBreaker\\tBuild Missile Turret; target: x=35.00,y=57.00\\n',\n",
       " '50608\\tBallBreaker\\tBuild Refinery; target: Vespene Geyser (101e0); target: x=22.50,y=83.50\\n',\n",
       " '50844\\tBallBreaker\\tBuild Refinery; target: Vespene Geyser (10188); target: x=27.50,y=83.50\\n',\n",
       " '51072\\tBallBreaker\\tBuild Supply Depot; target: x=24.00,y=96.00\\n',\n",
       " '51160\\tBallBreaker\\tBuild Supply Depot; target: x=24.00,y=94.00\\n',\n",
       " '53580\\tBallBreaker\\tBuild Reactor (Barracks)\\n',\n",
       " '53884\\tBallBreaker\\tBuild Barracks; target: x=28.50,y=88.50\\n',\n",
       " '56056\\tBallBreaker\\tBuild Command Center; target: x=29.50,y=101.50\\n',\n",
       " '62504\\tBallBreaker\\tBuild Supply Depot; target: x=31.00,y=62.00\\n',\n",
       " '62536\\tBallBreaker\\tBuild Supply Depot; target: x=31.00,y=59.00\\n',\n",
       " '62580\\tBallBreaker\\tBuild Supply Depot; target: x=30.00,y=56.00\\n',\n",
       " '62628\\tBallBreaker\\tBuild Supply Depot; target: x=28.00,y=55.00\\n',\n",
       " '62660\\tBallBreaker\\tBuild Supply Depot; target: x=33.00,y=57.00\\n',\n",
       " '63200\\tBallBreaker\\tBuild Missile Turret; target: x=41.00,y=61.00\\n',\n",
       " '63244\\tBallBreaker\\tBuild Missile Turret; target: x=38.00,y=59.00\\n',\n",
       " '63436\\tBallBreaker\\tBuild Missile Turret; target: x=39.00,y=56.00\\n',\n",
       " '63888\\tBallBreaker\\tBuild Reactor (Barracks); target: x=26.50,y=94.50\\n',\n",
       " '64732\\tBallBreaker\\tBuild Missile Turret; target: x=48.00,y=114.00\\n',\n",
       " '65100\\tBallBreaker\\tBuild Missile Turret; target: x=56.00,y=116.00\\n',\n",
       " '65260\\tBallBreaker\\tBuild Missile Turret; target: x=54.00,y=118.00\\n',\n",
       " '65316\\tBallBreaker\\tBuild Missile Turret; target: x=49.00,y=119.00\\n',\n",
       " '65708\\tBallBreaker\\t[Queued] Build Missile Turret; target: x=55.00,y=116.00\\n',\n",
       " '70232\\tBallBreaker\\tBuild Missile Turret; target: x=55.00,y=112.00\\n',\n",
       " '72640\\tBallBreaker\\tBuild Factory; target: x=41.50,y=75.50\\n',\n",
       " '72876\\tBallBreaker\\tBuild Armory; target: x=17.50,y=64.50\\n',\n",
       " '74856\\tBallBreaker\\tBuild Missile Turret; target: x=55.00,y=110.00\\n',\n",
       " '79920\\tBallBreaker\\tBuild Command Center; target: x=29.50,y=98.50\\n',\n",
       " '84400\\tBallBreaker\\tBuild Tech Lab (Factory)\\n',\n",
       " '84636\\tBallBreaker\\tBuild Supply Depot; target: x=43.00,y=65.00\\n',\n",
       " '87256\\tBallBreaker\\tBuild Missile Turret; target: x=53.00,y=114.00\\n',\n",
       " '87292\\tBallBreaker\\tBuild Missile Turret; target: x=56.00,y=113.00\\n',\n",
       " '87324\\tBallBreaker\\tBuild Missile Turret; target: x=55.00,y=109.00\\n',\n",
       " '87404\\tBallBreaker\\tBuild Missile Turret; target: x=49.00,y=119.00\\n',\n",
       " '88564\\tBallBreaker\\tBuild Missile Turret; target: x=56.00,y=107.00\\n',\n",
       " '89012\\tBallBreaker\\tBuild Missile Turret; target: x=42.00,y=117.00\\n',\n",
       " '93996\\tBallBreaker\\tBuild Missile Turret; target: x=55.00,y=113.00\\n',\n",
       " '94032\\tBallBreaker\\tBuild Missile Turret; target: x=55.00,y=110.00\\n',\n",
       " '94164\\tBallBreaker\\tBuild Missile Turret; target: x=55.00,y=116.00\\n',\n",
       " '96280\\tBallBreaker\\tBuild Missile Turret; target: x=48.00,y=120.00\\n',\n",
       " '96316\\tBallBreaker\\tBuild Missile Turret; target: x=51.00,y=120.00\\n',\n",
       " '108276\\tBallBreaker\\tBuild Missile Turret; target: x=49.00,y=120.00\\n',\n",
       " '108332\\tBallBreaker\\tBuild Missile Turret; target: x=52.00,y=119.00\\n',\n",
       " '108928\\tBallBreaker\\tBuild Command Center; target: x=29.50,y=102.50\\n',\n",
       " '114588\\tBallBreaker\\tBuild Missile Turret; target: x=29.00,y=138.00\\n',\n",
       " '114632\\tBallBreaker\\tBuild Missile Turret; target: x=32.00,y=136.00\\n',\n",
       " '114756\\tBallBreaker\\tBuild Missile Turret; target: x=27.00,y=142.00\\n']"
      ]
     },
     "execution_count": 294,
     "metadata": {},
     "output_type": "execute_result"
    }
   ],
   "source": [
    "[line for line in p2 if re.search(r'Build', line)]"
   ]
  },
  {
   "cell_type": "code",
   "execution_count": null,
   "metadata": {},
   "outputs": [],
   "source": []
  }
 ],
 "metadata": {
  "kernelspec": {
   "display_name": "SC2 (Py36)",
   "language": "python",
   "name": "venv"
  },
  "language_info": {
   "codemirror_mode": {
    "name": "ipython",
    "version": 3
   },
   "file_extension": ".py",
   "mimetype": "text/x-python",
   "name": "python",
   "nbconvert_exporter": "python",
   "pygments_lexer": "ipython3",
   "version": "3.6.3"
  }
 },
 "nbformat": 4,
 "nbformat_minor": 2
}
