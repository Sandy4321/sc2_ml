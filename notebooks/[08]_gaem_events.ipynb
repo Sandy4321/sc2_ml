{
 "cells": [
  {
   "cell_type": "code",
   "execution_count": 1,
   "metadata": {},
   "outputs": [],
   "source": [
    "%load_ext autoreload\n",
    "%autoreload 2"
   ]
  },
  {
   "cell_type": "code",
   "execution_count": 35,
   "metadata": {},
   "outputs": [],
   "source": [
    "from collections import defaultdict, deque"
   ]
  },
  {
   "cell_type": "code",
   "execution_count": 87,
   "metadata": {},
   "outputs": [],
   "source": [
    "import matplotlib.pyplot as plt\n",
    "import seaborn as sns"
   ]
  },
  {
   "cell_type": "code",
   "execution_count": 7,
   "metadata": {},
   "outputs": [],
   "source": [
    "import numpy as np\n",
    "import pandas as pd\n",
    "from glob import glob\n",
    "import sys\n",
    "sys.path.append('../src/')\n",
    "from parsing import Parse\n",
    "from training import TrainingOrders\n",
    "from buildings import BuildOrders\n",
    "datasetfolder = \"i:/StarCraft_BO/replayActionList/*\"\n",
    "datasetfiles = glob(datasetfolder)"
   ]
  },
  {
   "cell_type": "code",
   "execution_count": 16,
   "metadata": {},
   "outputs": [],
   "source": [
    "from buildings import protoss_buildings, zerg_buildings, terran_buildings\n",
    "from training import protoss_units, zerg_units, terran_units"
   ]
  },
  {
   "cell_type": "code",
   "execution_count": 3,
   "metadata": {},
   "outputs": [],
   "source": [
    "sc = Parse(datasetfiles[1])"
   ]
  },
  {
   "cell_type": "code",
   "execution_count": 6,
   "metadata": {},
   "outputs": [
    {
     "data": {
      "text/plain": [
       "[('76', 'SCV'),\n",
       " ('1112', 'SCV'),\n",
       " ('1136', 'SCV'),\n",
       " ('1876', 'SCV'),\n",
       " ('2576', 'SCV'),\n",
       " ('4228', 'SCV'),\n",
       " ('4240', 'SCV'),\n",
       " ('4252', 'SCV'),\n",
       " ('4872', 'SCV'),\n",
       " ('6736', 'SCV')]"
      ]
     },
     "execution_count": 6,
     "metadata": {},
     "output_type": "execute_result"
    }
   ],
   "source": [
    "sc.extract_training(1)[:10]"
   ]
  },
  {
   "cell_type": "markdown",
   "metadata": {},
   "source": [
    "To cluster build orders, we will convert games into matrix of train/build frames for each units/buildings. The max queue to store can be a parameter. \n",
    "The distances between builds will be the average absolute differences. The dataset will be split into :  \n",
    "\n",
    "|x|P|Z|T|\n",
    "|-|-|-|-|\n",
    "|P|PvP|PvZ|PvT|\n",
    "|Z|ZvP|ZvZ|ZvT|\n",
    "|T|TvP|TvZ|TvT|"
   ]
  },
  {
   "cell_type": "code",
   "execution_count": 80,
   "metadata": {},
   "outputs": [],
   "source": [
    "bo_dict = {}\n",
    "for race in ['Protoss','Zerg', 'Terran']:\n",
    "    bo = BuildOrders(race,datasetfiles, nb_bo=100)\n",
    "    b = bo.select_bo()\n",
    "    b.extend(bo.select_bo(winners=False))\n",
    "    bo_dict[race] = b"
   ]
  },
  {
   "cell_type": "code",
   "execution_count": 81,
   "metadata": {},
   "outputs": [],
   "source": [
    "to_dict = {}\n",
    "for race in ['Protoss','Zerg', 'Terran']:\n",
    "    to = TrainingOrders(race, datasetfiles, nb_to=100)\n",
    "    t = to.select_to()\n",
    "    t.extend(to.select_to(winners=False))\n",
    "    to_dict[race] = t"
   ]
  },
  {
   "cell_type": "code",
   "execution_count": 82,
   "metadata": {},
   "outputs": [],
   "source": [
    "protoss_builds = []\n",
    "for i,pb in enumerate(bo_dict['Protoss']):\n",
    "    builds = {}\n",
    "    for build in protoss_buildings:\n",
    "        builds[build] = deque([0.0]*10, 10)\n",
    "    for line in pb:\n",
    "        builds[line[1]].appendleft(int(line[0]))\n",
    "    a = pd.DataFrame.from_dict(builds)\n",
    "    protoss_builds.append(a.values)"
   ]
  },
  {
   "cell_type": "code",
   "execution_count": 83,
   "metadata": {},
   "outputs": [
    {
     "data": {
      "text/plain": [
       "56"
      ]
     },
     "execution_count": 83,
     "metadata": {},
     "output_type": "execute_result"
    }
   ],
   "source": [
    "len(protoss_builds)"
   ]
  },
  {
   "cell_type": "code",
   "execution_count": 136,
   "metadata": {},
   "outputs": [],
   "source": [
    "protoss_train =[]\n",
    "for i,pt in enumerate(to_dict['Protoss']):\n",
    "    trains = {}\n",
    "    for unit in protoss_units:\n",
    "        trains[unit] = deque([0.0]*10, 10)\n",
    "    for line in pt:\n",
    "        if line[1] in protoss_units and line[1] != 'Probe':\n",
    "            trains[line[1]].appendleft(int(line[0]))\n",
    "    a = pd.DataFrame.from_dict(trains)\n",
    "    protoss_train.append(a.values)"
   ]
  },
  {
   "cell_type": "markdown",
   "metadata": {},
   "source": [
    "### Distance matrix"
   ]
  },
  {
   "cell_type": "code",
   "execution_count": 137,
   "metadata": {},
   "outputs": [],
   "source": [
    "train_mat = np.zeros((len(protoss_train), len(protoss_train)))\n",
    "for i,a in enumerate(protoss_train):\n",
    "    for j,b in enumerate(protoss_train):\n",
    "        train_mat[i,j] = np.mean(np.abs(a - b))"
   ]
  },
  {
   "cell_type": "code",
   "execution_count": 138,
   "metadata": {},
   "outputs": [
    {
     "data": {
      "text/plain": [
       "array([[    0.  ,  1043.38,  3368.7 , ..., 15251.64,  5160.22,   822.74],\n",
       "       [ 1043.38,     0.  ,  3624.88, ..., 14596.82,  5025.52,   926.4 ],\n",
       "       [ 3368.7 ,  3624.88,     0.  , ..., 12837.06,  8403.68,  3894.84],\n",
       "       ...,\n",
       "       [15251.64, 14596.82, 12837.06, ...,     0.  , 11646.58, 14661.02],\n",
       "       [ 5160.22,  5025.52,  8403.68, ..., 11646.58,     0.  ,  4791.64],\n",
       "       [  822.74,   926.4 ,  3894.84, ..., 14661.02,  4791.64,     0.  ]])"
      ]
     },
     "execution_count": 138,
     "metadata": {},
     "output_type": "execute_result"
    }
   ],
   "source": [
    "train_mat"
   ]
  },
  {
   "cell_type": "code",
   "execution_count": 85,
   "metadata": {},
   "outputs": [],
   "source": [
    "mat = np.zeros((len(protoss_builds), len(protoss_builds)))\n",
    "for i,a in enumerate(protoss_builds):\n",
    "    for j,b in enumerate(protoss_builds):\n",
    "        mat[i,j] = np.mean(np.abs(a - b))"
   ]
  },
  {
   "cell_type": "code",
   "execution_count": 86,
   "metadata": {},
   "outputs": [
    {
     "data": {
      "text/plain": [
       "array([[    0.        , 16076.66666667, 12485.49333333, ...,\n",
       "        15661.09333333, 10341.97333333, 13888.88      ],\n",
       "       [16076.66666667,     0.        ,  4046.32      , ...,\n",
       "          415.57333333, 15741.14666667,  4740.10666667],\n",
       "       [12485.49333333,  4046.32      ,     0.        , ...,\n",
       "         3630.74666667, 12540.42666667,  5270.58666667],\n",
       "       ...,\n",
       "       [15661.09333333,   415.57333333,  3630.74666667, ...,\n",
       "            0.        , 15325.57333333,  4406.29333333],\n",
       "       [10341.97333333, 15741.14666667, 12540.42666667, ...,\n",
       "        15325.57333333,     0.        , 11134.26666667],\n",
       "       [13888.88      ,  4740.10666667,  5270.58666667, ...,\n",
       "         4406.29333333, 11134.26666667,     0.        ]])"
      ]
     },
     "execution_count": 86,
     "metadata": {},
     "output_type": "execute_result"
    }
   ],
   "source": [
    "mat"
   ]
  },
  {
   "cell_type": "code",
   "execution_count": 139,
   "metadata": {},
   "outputs": [
    {
     "data": {
      "image/png": "[encoded data removed]",
      "text/plain": [
       "<Figure size 720x576 with 2 Axes>"
      ]
     },
     "metadata": {
      "needs_background": "light"
     },
     "output_type": "display_data"
    }
   ],
   "source": [
    "plt.figure(figsize=(10,8))\n",
    "sns.heatmap(train_mat, cmap='Reds')\n",
    "plt.show()"
   ]
  },
  {
   "cell_type": "code",
   "execution_count": 105,
   "metadata": {},
   "outputs": [
    {
     "data": {
      "image/png": "[encoded data removed]",
      "text/plain": [
       "<Figure size 720x576 with 2 Axes>"
      ]
     },
     "metadata": {
      "needs_background": "light"
     },
     "output_type": "display_data"
    }
   ],
   "source": [
    "plt.figure(figsize=(10,8))\n",
    "sns.heatmap(mat, cmap='Blues')\n",
    "plt.show()"
   ]
  },
  {
   "cell_type": "markdown",
   "metadata": {},
   "source": [
    "### Clusters"
   ]
  },
  {
   "cell_type": "code",
   "execution_count": 96,
   "metadata": {},
   "outputs": [],
   "source": [
    "from sklearn.cluster import DBSCAN\n",
    "from sklearn.preprocessing import StandardScaler"
   ]
  },
  {
   "cell_type": "code",
   "execution_count": 130,
   "metadata": {},
   "outputs": [],
   "source": [
    "X = StandardScaler().fit_transform(mat)\n",
    "db = DBSCAN().fit(X)"
   ]
  },
  {
   "cell_type": "code",
   "execution_count": 131,
   "metadata": {},
   "outputs": [
    {
     "data": {
      "text/plain": [
       "array([-1,  1, -1, -1,  0, -1, -1, -1, -1,  0, -1, -1, -1, -1, -1,  1, -1,\n",
       "       -1, -1,  1, -1, -1, -1, -1, -1,  0, -1,  0,  1,  1,  0, -1, -1, -1,\n",
       "       -1, -1, -1, -1, -1, -1, -1, -1, -1, -1, -1, -1, -1, -1, -1, -1, -1,\n",
       "       -1,  0,  1, -1, -1], dtype=int64)"
      ]
     },
     "execution_count": 131,
     "metadata": {},
     "output_type": "execute_result"
    }
   ],
   "source": [
    "db.labels_"
   ]
  },
  {
   "cell_type": "code",
   "execution_count": 132,
   "metadata": {},
   "outputs": [
    {
     "data": {
      "text/plain": [
       "(array([ 4,  9, 25, 27, 30, 52], dtype=int64),)"
      ]
     },
     "execution_count": 132,
     "metadata": {},
     "output_type": "execute_result"
    }
   ],
   "source": [
    "np.where(db.labels_ == 0)"
   ]
  },
  {
   "cell_type": "code",
   "execution_count": 133,
   "metadata": {},
   "outputs": [
    {
     "data": {
      "text/plain": [
       "array([ 1, 15, 19, 28, 29, 53], dtype=int64)"
      ]
     },
     "execution_count": 133,
     "metadata": {},
     "output_type": "execute_result"
    }
   ],
   "source": [
    "np.where(db.labels_ == 1)[0]"
   ]
  },
  {
   "cell_type": "code",
   "execution_count": 149,
   "metadata": {},
   "outputs": [],
   "source": [
    "X = StandardScaler().fit_transform(train_mat)\n",
    "db = DBSCAN(eps=0.8, min_samples=3).fit(X)"
   ]
  },
  {
   "cell_type": "code",
   "execution_count": 150,
   "metadata": {},
   "outputs": [
    {
     "data": {
      "text/plain": [
       "array([ 0,  0, -1, -1, -1,  1, -1, -1,  1, -1, -1, -1, -1,  1, -1, -1, -1,\n",
       "       -1, -1, -1,  0,  0, -1, -1, -1, -1, -1,  0,  0, -1, -1, -1, -1, -1,\n",
       "       -1, -1, -1,  0, -1, -1, -1,  0, -1,  0, -1, -1, -1,  0, -1, -1, -1,\n",
       "       -1, -1,  0], dtype=int64)"
      ]
     },
     "execution_count": 150,
     "metadata": {},
     "output_type": "execute_result"
    }
   ],
   "source": [
    "db.labels_"
   ]
  },
  {
   "cell_type": "code",
   "execution_count": 151,
   "metadata": {},
   "outputs": [
    {
     "data": {
      "text/plain": [
       "(array([ 0,  1, 20, 21, 27, 28, 37, 41, 43, 47, 53], dtype=int64),)"
      ]
     },
     "execution_count": 151,
     "metadata": {},
     "output_type": "execute_result"
    }
   ],
   "source": [
    "np.where(db.labels_ == 0)"
   ]
  },
  {
   "cell_type": "code",
   "execution_count": 155,
   "metadata": {},
   "outputs": [
    {
     "data": {
      "text/plain": [
       "array([[-1.00211148, -0.82765496, -0.75600253, ...,  0.61718923,\n",
       "        -0.48295443, -0.88998028],\n",
       "       [-0.81789131, -1.01985079, -0.69735728, ...,  0.40264108,\n",
       "        -0.51778017, -0.8709232 ],\n",
       "       [-0.40733058, -0.35212972, -1.52717225, ..., -0.17393456,\n",
       "         0.35561934, -0.32519871],\n",
       "       ...,\n",
       "       [ 1.69073271,  1.66895666,  1.41151388, ..., -4.37992629,\n",
       "         1.19404832,  1.65407932],\n",
       "       [-0.09101809, -0.09412481,  0.39661543, ..., -0.56398875,\n",
       "        -1.817093  , -0.16032904],\n",
       "       [-0.85684772, -0.84920327, -0.63555748, ...,  0.42367585,\n",
       "        -0.57824819, -1.0412346 ]])"
      ]
     },
     "execution_count": 155,
     "metadata": {},
     "output_type": "execute_result"
    }
   ],
   "source": [
    "X"
   ]
  },
  {
   "cell_type": "code",
   "execution_count": null,
   "metadata": {},
   "outputs": [],
   "source": []
  }
 ],
 "metadata": {
  "kernelspec": {
   "display_name": "SC2 (Py36)",
   "language": "python",
   "name": "venv"
  },
  "language_info": {
   "codemirror_mode": {
    "name": "ipython",
    "version": 3
   },
   "file_extension": ".py",
   "mimetype": "text/x-python",
   "name": "python",
   "nbconvert_exporter": "python",
   "pygments_lexer": "ipython3",
   "version": "3.6.3"
  }
 },
 "nbformat": 4,
 "nbformat_minor": 2
}
