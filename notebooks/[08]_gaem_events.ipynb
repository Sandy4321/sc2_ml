{
 "cells": [
  {
   "cell_type": "code",
   "execution_count": 1,
   "metadata": {},
   "outputs": [],
   "source": [
    "%load_ext autoreload\n",
    "%autoreload 2"
   ]
  },
  {
   "cell_type": "code",
   "execution_count": 35,
   "metadata": {},
   "outputs": [],
   "source": [
    "from collections import defaultdict, deque"
   ]
  },
  {
   "cell_type": "code",
   "execution_count": 87,
   "metadata": {},
   "outputs": [],
   "source": [
    "import matplotlib.pyplot as plt\n",
    "import seaborn as sns"
   ]
  },
  {
   "cell_type": "code",
   "execution_count": 7,
   "metadata": {},
   "outputs": [],
   "source": [
    "import numpy as np\n",
    "import pandas as pd\n",
    "from glob import glob\n",
    "import sys\n",
    "sys.path.append('../src/')\n",
    "from parsing import Parse\n",
    "from training import TrainingOrders\n",
    "from buildings import BuildOrders\n",
    "datasetfolder = \"i:/StarCraft_BO/replayActionList/*\"\n",
    "datasetfiles = glob(datasetfolder)"
   ]
  },
  {
   "cell_type": "code",
   "execution_count": 16,
   "metadata": {},
   "outputs": [],
   "source": [
    "from buildings import protoss_buildings, zerg_buildings, terran_buildings\n",
    "from training import protoss_units, zerg_units, terran_units"
   ]
  },
  {
   "cell_type": "code",
   "execution_count": 3,
   "metadata": {},
   "outputs": [],
   "source": [
    "sc = Parse(datasetfiles[1])"
   ]
  },
  {
   "cell_type": "code",
   "execution_count": 6,
   "metadata": {},
   "outputs": [
    {
     "data": {
      "text/plain": [
       "[('76', 'SCV'),\n",
       " ('1112', 'SCV'),\n",
       " ('1136', 'SCV'),\n",
       " ('1876', 'SCV'),\n",
       " ('2576', 'SCV'),\n",
       " ('4228', 'SCV'),\n",
       " ('4240', 'SCV'),\n",
       " ('4252', 'SCV'),\n",
       " ('4872', 'SCV'),\n",
       " ('6736', 'SCV')]"
      ]
     },
     "execution_count": 6,
     "metadata": {},
     "output_type": "execute_result"
    }
   ],
   "source": [
    "sc.extract_training(1)[:10]"
   ]
  },
  {
   "cell_type": "markdown",
   "metadata": {},
   "source": [
    "To cluster build orders, we will convert games into matrix of train/build frames for each units/buildings. The max queue to store can be a parameter. \n",
    "The distances between builds will be the average absolute differences. The dataset will be split into :  \n",
    "\n",
    "|x|P|Z|T|\n",
    "|-|-|-|-|\n",
    "|P|PvP|PvZ|PvT|\n",
    "|Z|ZvP|ZvZ|ZvT|\n",
    "|T|TvP|TvZ|TvT|"
   ]
  },
  {
   "cell_type": "code",
   "execution_count": 80,
   "metadata": {},
   "outputs": [],
   "source": [
    "bo_dict = {}\n",
    "for race in ['Protoss','Zerg', 'Terran']:\n",
    "    bo = BuildOrders(race,datasetfiles, nb_bo=100)\n",
    "    b = bo.select_bo()\n",
    "    b.extend(bo.select_bo(winners=False))\n",
    "    bo_dict[race] = b"
   ]
  },
  {
   "cell_type": "code",
   "execution_count": 81,
   "metadata": {},
   "outputs": [],
   "source": [
    "to_dict = {}\n",
    "for race in ['Protoss','Zerg', 'Terran']:\n",
    "    to = TrainingOrders(race, datasetfiles, nb_to=100)\n",
    "    t = to.select_to()\n",
    "    t.extend(to.select_to(winners=False))\n",
    "    to_dict[race] = t"
   ]
  },
  {
   "cell_type": "code",
   "execution_count": 82,
   "metadata": {},
   "outputs": [],
   "source": [
    "protoss_builds = []\n",
    "for i,pb in enumerate(bo_dict['Protoss']):\n",
    "    builds = {}\n",
    "    for build in protoss_buildings:\n",
    "        builds[build] = deque([0.0]*10, 10)\n",
    "    for line in pb:\n",
    "        builds[line[1]].appendleft(int(line[0]))\n",
    "    a = pd.DataFrame.from_dict(builds)\n",
    "    protoss_builds.append(a.values)"
   ]
  },
  {
   "cell_type": "code",
   "execution_count": 83,
   "metadata": {},
   "outputs": [
    {
     "data": {
      "text/plain": [
       "56"
      ]
     },
     "execution_count": 83,
     "metadata": {},
     "output_type": "execute_result"
    }
   ],
   "source": [
    "len(protoss_builds)"
   ]
  },
  {
   "cell_type": "markdown",
   "metadata": {},
   "source": [
    "### Distance matrix"
   ]
  },
  {
   "cell_type": "code",
   "execution_count": 85,
   "metadata": {},
   "outputs": [],
   "source": [
    "mat = np.zeros((len(protoss_builds), len(protoss_builds)))\n",
    "for i,a in enumerate(protoss_builds):\n",
    "    for j,b in enumerate(protoss_builds):\n",
    "        mat[i,j] = np.mean(np.abs(a - b))"
   ]
  },
  {
   "cell_type": "code",
   "execution_count": 86,
   "metadata": {},
   "outputs": [
    {
     "data": {
      "text/plain": [
       "array([[    0.        , 16076.66666667, 12485.49333333, ...,\n",
       "        15661.09333333, 10341.97333333, 13888.88      ],\n",
       "       [16076.66666667,     0.        ,  4046.32      , ...,\n",
       "          415.57333333, 15741.14666667,  4740.10666667],\n",
       "       [12485.49333333,  4046.32      ,     0.        , ...,\n",
       "         3630.74666667, 12540.42666667,  5270.58666667],\n",
       "       ...,\n",
       "       [15661.09333333,   415.57333333,  3630.74666667, ...,\n",
       "            0.        , 15325.57333333,  4406.29333333],\n",
       "       [10341.97333333, 15741.14666667, 12540.42666667, ...,\n",
       "        15325.57333333,     0.        , 11134.26666667],\n",
       "       [13888.88      ,  4740.10666667,  5270.58666667, ...,\n",
       "         4406.29333333, 11134.26666667,     0.        ]])"
      ]
     },
     "execution_count": 86,
     "metadata": {},
     "output_type": "execute_result"
    }
   ],
   "source": [
    "mat"
   ]
  },
  {
   "cell_type": "code",
   "execution_count": 105,
   "metadata": {},
   "outputs": [
    {
     "data": {
      "image/png": "[encoded data removed]",
      "text/plain": [
       "<Figure size 720x576 with 2 Axes>"
      ]
     },
     "metadata": {
      "needs_background": "light"
     },
     "output_type": "display_data"
    }
   ],
   "source": [
    "plt.figure(figsize=(10,8))\n",
    "sns.heatmap(mat, cmap='Blues')\n",
    "plt.show()"
   ]
  },
  {
   "cell_type": "markdown",
   "metadata": {},
   "source": [
    "### Clusters"
   ]
  },
  {
   "cell_type": "code",
   "execution_count": 96,
   "metadata": {},
   "outputs": [],
   "source": [
    "from sklearn.cluster import DBSCAN\n",
    "from sklearn.preprocessing import StandardScaler"
   ]
  },
  {
   "cell_type": "code",
   "execution_count": 97,
   "metadata": {},
   "outputs": [],
   "source": [
    "X = StandardScaler().fit_transform(mat)\n",
    "db = DBSCAN().fit(X)"
   ]
  },
  {
   "cell_type": "code",
   "execution_count": 98,
   "metadata": {},
   "outputs": [
    {
     "data": {
      "text/plain": [
       "array([-1,  1, -1, -1,  0, -1, -1, -1, -1,  0, -1, -1, -1, -1, -1,  1, -1,\n",
       "       -1, -1,  1, -1, -1, -1, -1, -1,  0, -1,  0,  1,  1,  0, -1, -1, -1,\n",
       "       -1, -1, -1, -1, -1, -1, -1, -1, -1, -1, -1, -1, -1, -1, -1, -1, -1,\n",
       "       -1,  0,  1, -1, -1], dtype=int64)"
      ]
     },
     "execution_count": 98,
     "metadata": {},
     "output_type": "execute_result"
    }
   ],
   "source": [
    "db.labels_"
   ]
  },
  {
   "cell_type": "code",
   "execution_count": 100,
   "metadata": {},
   "outputs": [
    {
     "data": {
      "text/plain": [
       "(array([ 4,  9, 25, 27, 30, 52], dtype=int64),)"
      ]
     },
     "execution_count": 100,
     "metadata": {},
     "output_type": "execute_result"
    }
   ],
   "source": [
    "np.where(db.labels_ == 0)"
   ]
  },
  {
   "cell_type": "code",
   "execution_count": 111,
   "metadata": {},
   "outputs": [
    {
     "data": {
      "text/plain": [
       "array([ 1, 15, 19, 28, 29, 53], dtype=int64)"
      ]
     },
     "execution_count": 111,
     "metadata": {},
     "output_type": "execute_result"
    }
   ],
   "source": [
    "np.where(db.labels_ == 1)[0]"
   ]
  },
  {
   "cell_type": "code",
   "execution_count": 121,
   "metadata": {},
   "outputs": [
    {
     "data": {
      "text/plain": [
       "[('3372', 'Pylon', 47.0, 109.0, None),\n",
       " ('6424', 'Gateway', 42.5, 107.5, None),\n",
       " ('8460', 'Assimilator', 42.5, 123.5, None),\n",
       " ('10756', 'CyberneticsCore', 45.5, 105.5, None),\n",
       " ('11948', 'Pylon', 46.0, 111.0, None),\n",
       " ('14320', 'Assimilator', 56.5, 124.5, None),\n",
       " ('14940', 'RoboticsFacility', 50.5, 114.5, None),\n",
       " ('23268', 'Gateway', 41.5, 112.5, None),\n",
       " ('27192', 'Pylon', 142.0, 71.0, None),\n",
       " ('39548', 'Pylon', 111.0, 78.0, None),\n",
       " ('67588', 'Nexus', 26.5, 56.5, None),\n",
       " ('84376', 'Nexus', 34.5, 95.5, None),\n",
       " ('86908', 'TwilightCouncil', 58.5, 117.5, None),\n",
       " ('88664', 'Pylon', 46.0, 95.0, None),\n",
       " ('102312', 'RoboticsBay', 60.5, 124.5, None),\n",
       " ('110188', 'Nexus', 41.5, 29.5, None),\n",
       " ('112212', 'Pylon', 118.0, 75.0, None),\n",
       " ('120328', 'Nexus', 63.5, 53.5, None),\n",
       " ('187004', 'Nexus', 72.5, 100.5, None),\n",
       " ('208340', 'DarkShrine', 59.0, 61.0, None),\n",
       " ('222428', 'TemplarArchives', 38.5, 94.5, None),\n",
       " ('223168', 'FleetBeacon', 56.5, 106.5, None),\n",
       " ('244932', 'Nexus', 93.5, 124.5, None),\n",
       " ('245156', 'Nexus', 112.5, 99.5, None),\n",
       " ('270372', 'Nexus', 82.5, 27.5, None),\n",
       " ('305904', 'Nexus', 112.5, 99.5, None),\n",
       " ('310496', 'Nexus', 112.5, 99.5, None),\n",
       " ('316008', 'Assimilator', 110.5, 106.5, None),\n",
       " ('316112', 'Assimilator', 119.5, 96.5, None)]"
      ]
     },
     "execution_count": 121,
     "metadata": {},
     "output_type": "execute_result"
    }
   ],
   "source": [
    "bo_dict['Protoss'][34]"
   ]
  },
  {
   "cell_type": "code",
   "execution_count": null,
   "metadata": {},
   "outputs": [],
   "source": []
  }
 ],
 "metadata": {
  "kernelspec": {
   "display_name": "SC2 (Py36)",
   "language": "python",
   "name": "venv"
  },
  "language_info": {
   "codemirror_mode": {
    "name": "ipython",
    "version": 3
   },
   "file_extension": ".py",
   "mimetype": "text/x-python",
   "name": "python",
   "nbconvert_exporter": "python",
   "pygments_lexer": "ipython3",
   "version": "3.6.3"
  }
 },
 "nbformat": 4,
 "nbformat_minor": 2
}
