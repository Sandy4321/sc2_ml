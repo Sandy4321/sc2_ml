{
 "cells": [
  {
   "cell_type": "code",
   "execution_count": 1,
   "metadata": {},
   "outputs": [],
   "source": [
    "%load_ext autoreload\n",
    "%autoreload 2"
   ]
  },
  {
   "cell_type": "code",
   "execution_count": 2,
   "metadata": {},
   "outputs": [],
   "source": [
    "from glob import glob"
   ]
  },
  {
   "cell_type": "code",
   "execution_count": 3,
   "metadata": {},
   "outputs": [],
   "source": [
    "from collections import Counter\n",
    "import sys\n",
    "sys.path.append('../src/')\n",
    "from parsing import Parse"
   ]
  },
  {
   "cell_type": "code",
   "execution_count": 4,
   "metadata": {},
   "outputs": [],
   "source": [
    "datasetfolder = \"i:/StarCraft_BO/replayActionList/*\"\n",
    "datasetfiles = glob(datasetfolder)"
   ]
  },
  {
   "cell_type": "code",
   "execution_count": 6,
   "metadata": {},
   "outputs": [
    {
     "name": "stdout",
     "output_type": "stream",
     "text": [
      "Not a dual game.\n",
      "Not a dual game.\n",
      "Not a dual game.\n",
      "Not a dual game.\n",
      "Not a dual game.\n",
      "Not a dual game.\n",
      "Not a dual game.\n",
      "Not a dual game.\n",
      "Not a dual game.\n",
      "Not a dual game.\n",
      "Not a dual game.\n",
      "Not a dual game.\n",
      "Not a dual game.\n",
      "Not a dual game.\n",
      "Not a dual game.\n",
      "Not a dual game.\n",
      "Not a dual game.\n"
     ]
    }
   ],
   "source": [
    "winners = []\n",
    "for datasetfile in datasetfiles[:1000]:\n",
    "    sc = Parse(datasetfile)\n",
    "#     print(datasetfile)\n",
    "    if len(sc.players_names) == 2 and len(sc.p1) > 0 and len(sc.p2) > 0:\n",
    "        if sc.p1[-1][1].strip() == 'Leave game':\n",
    "            winners.append(0)\n",
    "        elif sc.p2[-1][1].strip() == 'Leave game':\n",
    "            winners.append(1)\n",
    "        else:\n",
    "            winners.append(2)"
   ]
  },
  {
   "cell_type": "code",
   "execution_count": 7,
   "metadata": {},
   "outputs": [
    {
     "data": {
      "text/plain": [
       "Counter({0: 380, 1: 346, 2: 29})"
      ]
     },
     "execution_count": 7,
     "metadata": {},
     "output_type": "execute_result"
    }
   ],
   "source": [
    "Counter(winners)"
   ]
  },
  {
   "cell_type": "code",
   "execution_count": 10,
   "metadata": {},
   "outputs": [],
   "source": [
    "winners = []\n",
    "for datasetfile in datasetfiles[:1000]:\n",
    "    sc = Parse(datasetfile)\n",
    "    winners.append(sc.winner)"
   ]
  },
  {
   "cell_type": "code",
   "execution_count": 11,
   "metadata": {},
   "outputs": [
    {
     "data": {
      "text/plain": [
       "Counter({0: 380, 1: 346, None: 245, 2: 29})"
      ]
     },
     "execution_count": 11,
     "metadata": {},
     "output_type": "execute_result"
    }
   ],
   "source": [
    "Counter(winners)"
   ]
  },
  {
   "cell_type": "code",
   "execution_count": null,
   "metadata": {},
   "outputs": [],
   "source": []
  }
 ],
 "metadata": {
  "kernelspec": {
   "display_name": "SC2 (Py36)",
   "language": "python",
   "name": "venv"
  },
  "language_info": {
   "codemirror_mode": {
    "name": "ipython",
    "version": 3
   },
   "file_extension": ".py",
   "mimetype": "text/x-python",
   "name": "python",
   "nbconvert_exporter": "python",
   "pygments_lexer": "ipython3",
   "version": "3.6.3"
  }
 },
 "nbformat": 4,
 "nbformat_minor": 2
}
